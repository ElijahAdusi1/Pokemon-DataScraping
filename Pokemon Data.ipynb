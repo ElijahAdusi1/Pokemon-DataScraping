{
 "cells": [
  {
   "cell_type": "markdown",
   "id": "673b7f13",
   "metadata": {},
   "source": [
    "### Going to gather pokemon data from https://pokemondb.net/pokedex/all\n",
    "## It will be saved in a Pandas dataframe\n",
    "#### The stats, and types, and their abilities and hidden abilities. Name Origin, A boolean column on whether they're a mega or not, and trying to find the starter pokemon of each generation\n"
   ]
  },
  {
   "cell_type": "code",
   "execution_count": 11,
   "id": "05888623",
   "metadata": {},
   "outputs": [],
   "source": [
    "#Importing all our neccessary libraries\n",
    "import requests\n",
    "from bs4 import BeautifulSoup as bs\n",
    "import pandas as pd\n",
    "import numpy as np\n",
    "import matplotlib.pyplot as plt\n",
    "from collections import defaultdict"
   ]
  },
  {
   "cell_type": "markdown",
   "id": "24f0704f",
   "metadata": {},
   "source": [
    "## Getting the site as main_site"
   ]
  },
  {
   "cell_type": "code",
   "execution_count": 12,
   "id": "b902393f",
   "metadata": {},
   "outputs": [],
   "source": [
    "a = requests.get(\"https://pokemondb.net/pokedex/all\")\n",
    "main_site = bs(a.content)"
   ]
  },
  {
   "cell_type": "markdown",
   "id": "c56b258a",
   "metadata": {},
   "source": [
    "# Going to get all the tablerows"
   ]
  },
  {
   "cell_type": "code",
   "execution_count": 13,
   "id": "6da24607",
   "metadata": {},
   "outputs": [],
   "source": [
    "table_body = main_site.select(\"tbody\")[0]"
   ]
  },
  {
   "cell_type": "code",
   "execution_count": 14,
   "id": "f33575bb",
   "metadata": {},
   "outputs": [],
   "source": [
    "table_rows = table_body.select(\"tr\")"
   ]
  },
  {
   "cell_type": "markdown",
   "id": "00c0909e",
   "metadata": {},
   "source": [
    "## Going to get the name of the pokemon in the table row"
   ]
  },
  {
   "cell_type": "code",
   "execution_count": 15,
   "id": "d7379959",
   "metadata": {},
   "outputs": [],
   "source": [
    "first_row = table_rows[0]"
   ]
  },
  {
   "cell_type": "code",
   "execution_count": 16,
   "id": "8aac10f7",
   "metadata": {},
   "outputs": [
    {
     "data": {
      "text/plain": [
       "'Bulbasaur'"
      ]
     },
     "execution_count": 16,
     "metadata": {},
     "output_type": "execute_result"
    }
   ],
   "source": [
    "first_row.a.get_text()"
   ]
  },
  {
   "cell_type": "code",
   "execution_count": 17,
   "id": "7b6b0a36",
   "metadata": {},
   "outputs": [],
   "source": [
    "first_ten_poke_names = [row.a.get_text() for row in table_rows[0:10]]"
   ]
  },
  {
   "cell_type": "code",
   "execution_count": 18,
   "id": "78679d51",
   "metadata": {},
   "outputs": [],
   "source": [
    "#first_ten_poke_names"
   ]
  },
  {
   "cell_type": "markdown",
   "id": "20ab8485",
   "metadata": {},
   "source": [
    "### As you can see Charizard repeats three times, that's cause the last two are mega forms\n",
    "### I'll need to write that they are a mega in there!"
   ]
  },
  {
   "cell_type": "code",
   "execution_count": 19,
   "id": "3fe385a1",
   "metadata": {},
   "outputs": [],
   "source": [
    "charzard = table_rows[8]"
   ]
  },
  {
   "cell_type": "code",
   "execution_count": 20,
   "id": "c532c473",
   "metadata": {},
   "outputs": [
    {
     "data": {
      "text/plain": [
       "'Mega Charizard Y'"
      ]
     },
     "execution_count": 20,
     "metadata": {},
     "output_type": "execute_result"
    }
   ],
   "source": [
    "#On the website, there is small text under some of the pokemon\n",
    "#This is the path to the small text\n",
    "charzard.small.get_text()"
   ]
  },
  {
   "cell_type": "markdown",
   "id": "68452b55",
   "metadata": {},
   "source": [
    "### This is what I want to save the Charizard name as. Let's do it"
   ]
  },
  {
   "cell_type": "code",
   "execution_count": 21,
   "id": "ef50950e",
   "metadata": {},
   "outputs": [],
   "source": [
    "first_ten = []\n",
    "for row in table_rows[0:10]:\n",
    "    \"\"\"\n",
    "    This will take the main pokemon name if it's not in the list already\n",
    "    For example, Charizard is the main pokemon, but on the website there are seperate\n",
    "    entries for Charizard's megas, so It would take the megas name\n",
    "    \"\"\"\n",
    "    if row.a.get_text() not in first_ten:\n",
    "        first_ten.append(row.a.get_text())\n",
    "        \n",
    "    #If it is in the list already, I will get the small text under it\n",
    "    else:\n",
    "        first_ten.append(row.small.get_text())"
   ]
  },
  {
   "cell_type": "code",
   "execution_count": 22,
   "id": "55b0a190",
   "metadata": {},
   "outputs": [],
   "source": [
    "#first_ten"
   ]
  },
  {
   "cell_type": "markdown",
   "id": "704a44e8",
   "metadata": {},
   "source": [
    "### It's working, now to use it for all of the names!"
   ]
  },
  {
   "cell_type": "code",
   "execution_count": 23,
   "id": "f9b6221f",
   "metadata": {},
   "outputs": [],
   "source": [
    "names = []\n",
    "for row in table_rows:\n",
    "    if row.a.get_text() not in names:\n",
    "        names.append(row.a.get_text())\n",
    "    else:\n",
    "        names.append(row.a.get_text() + \"(\" + row.small.get_text() + \")\")"
   ]
  },
  {
   "cell_type": "code",
   "execution_count": 24,
   "id": "fb2c07ad",
   "metadata": {},
   "outputs": [
    {
     "data": {
      "text/plain": [
       "'Charizard(Mega Charizard Y)'"
      ]
     },
     "execution_count": 24,
     "metadata": {},
     "output_type": "execute_result"
    }
   ],
   "source": [
    "names[8]"
   ]
  },
  {
   "cell_type": "markdown",
   "id": "a9b624e4",
   "metadata": {},
   "source": [
    "## Getting the Pokemon Number:"
   ]
  },
  {
   "cell_type": "code",
   "execution_count": 25,
   "id": "6a6622db",
   "metadata": {},
   "outputs": [
    {
     "data": {
      "text/plain": [
       "'001'"
      ]
     },
     "execution_count": 25,
     "metadata": {},
     "output_type": "execute_result"
    }
   ],
   "source": [
    "first_row.td.get_text()"
   ]
  },
  {
   "cell_type": "code",
   "execution_count": 26,
   "id": "dd5f445a",
   "metadata": {},
   "outputs": [],
   "source": [
    "#The pokemon numbers are given on the main data set\n",
    "poke_nums = [row.td.get_text() for row in table_rows]"
   ]
  },
  {
   "cell_type": "code",
   "execution_count": null,
   "id": "1f5dc0dc",
   "metadata": {
    "scrolled": true
   },
   "outputs": [],
   "source": []
  },
  {
   "cell_type": "code",
   "execution_count": 27,
   "id": "727fc216",
   "metadata": {},
   "outputs": [
    {
     "data": {
      "text/plain": [
       "1045"
      ]
     },
     "execution_count": 27,
     "metadata": {},
     "output_type": "execute_result"
    }
   ],
   "source": [
    "len(poke_nums)"
   ]
  },
  {
   "cell_type": "markdown",
   "id": "d4bf1d76",
   "metadata": {},
   "source": [
    "# Getting the Total of their stats:"
   ]
  },
  {
   "cell_type": "code",
   "execution_count": 28,
   "id": "35c992d9",
   "metadata": {},
   "outputs": [
    {
     "data": {
      "text/plain": [
       "318"
      ]
     },
     "execution_count": 28,
     "metadata": {},
     "output_type": "execute_result"
    }
   ],
   "source": [
    "int(first_row.find(\"td\", attrs = {\"class\" : 'cell-total'}).get_text())"
   ]
  },
  {
   "cell_type": "code",
   "execution_count": 29,
   "id": "b17562c2",
   "metadata": {},
   "outputs": [],
   "source": [
    "#The totals is part of the column of stats, I converted it to an int so we could do calculations with it\n",
    "totals = [int(row.find(\"td\",attrs = {'class': 'cell-total'}).get_text()) for row in table_rows]"
   ]
  },
  {
   "cell_type": "code",
   "execution_count": null,
   "id": "c866e3dc",
   "metadata": {},
   "outputs": [],
   "source": []
  },
  {
   "cell_type": "markdown",
   "id": "45dafe5b",
   "metadata": {},
   "source": [
    "### Getting the indivual stats, same process as the total one"
   ]
  },
  {
   "cell_type": "code",
   "execution_count": 30,
   "id": "a64ed5af",
   "metadata": {
    "scrolled": true
   },
   "outputs": [
    {
     "data": {
      "text/plain": [
       "'45'"
      ]
     },
     "execution_count": 30,
     "metadata": {},
     "output_type": "execute_result"
    }
   ],
   "source": [
    "first_row.findAll(\"td\")[4].get_text() #HP"
   ]
  },
  {
   "cell_type": "code",
   "execution_count": 31,
   "id": "5897a534",
   "metadata": {},
   "outputs": [],
   "source": [
    "HP = [int(row.findAll(\"td\")[4].get_text()) for row in table_rows]"
   ]
  },
  {
   "cell_type": "code",
   "execution_count": 32,
   "id": "903f8fdc",
   "metadata": {},
   "outputs": [],
   "source": [
    "#HP.pop(33)"
   ]
  },
  {
   "cell_type": "code",
   "execution_count": 33,
   "id": "e4e798e8",
   "metadata": {},
   "outputs": [
    {
     "data": {
      "text/plain": [
       "'49'"
      ]
     },
     "execution_count": 33,
     "metadata": {},
     "output_type": "execute_result"
    }
   ],
   "source": [
    "first_row.findAll(\"td\")[5].get_text() #Attack"
   ]
  },
  {
   "cell_type": "code",
   "execution_count": 34,
   "id": "9eca6f72",
   "metadata": {},
   "outputs": [],
   "source": [
    "Attack = [int(row.findAll(\"td\")[5].get_text()) for row in table_rows]"
   ]
  },
  {
   "cell_type": "code",
   "execution_count": 35,
   "id": "3b29c12e",
   "metadata": {},
   "outputs": [],
   "source": [
    "#Attack.pop(33)"
   ]
  },
  {
   "cell_type": "code",
   "execution_count": 36,
   "id": "ed3d3103",
   "metadata": {},
   "outputs": [
    {
     "data": {
      "text/plain": [
       "'49'"
      ]
     },
     "execution_count": 36,
     "metadata": {},
     "output_type": "execute_result"
    }
   ],
   "source": [
    "first_row.findAll(\"td\")[6].get_text() #Defense"
   ]
  },
  {
   "cell_type": "code",
   "execution_count": 37,
   "id": "e3e30616",
   "metadata": {},
   "outputs": [],
   "source": [
    "Defense = [int(row.findAll(\"td\")[6].get_text()) for row in table_rows]"
   ]
  },
  {
   "cell_type": "code",
   "execution_count": 38,
   "id": "b9d75d10",
   "metadata": {},
   "outputs": [],
   "source": [
    "#Defense.pop(33)"
   ]
  },
  {
   "cell_type": "code",
   "execution_count": 39,
   "id": "13038c4a",
   "metadata": {},
   "outputs": [
    {
     "data": {
      "text/plain": [
       "'65'"
      ]
     },
     "execution_count": 39,
     "metadata": {},
     "output_type": "execute_result"
    }
   ],
   "source": [
    "first_row.findAll(\"td\")[7].get_text() #Sp.Atk"
   ]
  },
  {
   "cell_type": "code",
   "execution_count": 40,
   "id": "53f3328c",
   "metadata": {},
   "outputs": [],
   "source": [
    "Sp_Atk = [int(row.findAll(\"td\")[7].get_text()) for row in table_rows]"
   ]
  },
  {
   "cell_type": "code",
   "execution_count": 41,
   "id": "27d8bf88",
   "metadata": {},
   "outputs": [],
   "source": [
    "#Sp_Atk.pop(33)"
   ]
  },
  {
   "cell_type": "code",
   "execution_count": 42,
   "id": "967db67b",
   "metadata": {},
   "outputs": [],
   "source": [
    "Sp_Def = [int(row.findAll(\"td\")[8].get_text()) for row in table_rows]"
   ]
  },
  {
   "cell_type": "code",
   "execution_count": 43,
   "id": "908cde54",
   "metadata": {},
   "outputs": [],
   "source": [
    "#Sp_Def.pop(33)"
   ]
  },
  {
   "cell_type": "code",
   "execution_count": 44,
   "id": "ebd4fc15",
   "metadata": {},
   "outputs": [],
   "source": [
    "Speed = [int(row.findAll(\"td\")[9].get_text()) for row in table_rows]"
   ]
  },
  {
   "cell_type": "code",
   "execution_count": 45,
   "id": "69cb6710",
   "metadata": {},
   "outputs": [],
   "source": [
    "#Speed.pop(30)"
   ]
  },
  {
   "cell_type": "markdown",
   "id": "c58bfda0",
   "metadata": {},
   "source": [
    "## Adding a column of True/False based on if the pokemon is Mega"
   ]
  },
  {
   "cell_type": "code",
   "execution_count": 46,
   "id": "4869a364",
   "metadata": {},
   "outputs": [],
   "source": [
    "#Going to take advantage of numpy's speed and create an array of bools, of whether the pokemon\n",
    "#is a mega or not\n",
    "np_names = np.array(names)"
   ]
  },
  {
   "cell_type": "code",
   "execution_count": 47,
   "id": "b88aa482",
   "metadata": {},
   "outputs": [],
   "source": [
    "Mega = np.char.count(np_names,'Mega ') == 1"
   ]
  },
  {
   "cell_type": "code",
   "execution_count": 48,
   "id": "5d2c2212",
   "metadata": {
    "scrolled": true
   },
   "outputs": [
    {
     "data": {
      "text/plain": [
       "1045"
      ]
     },
     "execution_count": 48,
     "metadata": {},
     "output_type": "execute_result"
    }
   ],
   "source": [
    "len(Mega)"
   ]
  },
  {
   "cell_type": "markdown",
   "id": "f22d4f67",
   "metadata": {},
   "source": [
    "# Getting the First type of the pokemon"
   ]
  },
  {
   "cell_type": "code",
   "execution_count": 49,
   "id": "83bb1a55",
   "metadata": {},
   "outputs": [
    {
     "data": {
      "text/plain": [
       "'Grass'"
      ]
     },
     "execution_count": 49,
     "metadata": {},
     "output_type": "execute_result"
    }
   ],
   "source": [
    "first_row.findAll('a', attrs = {\"class\" : \"type-icon\"})[0].get_text()"
   ]
  },
  {
   "cell_type": "code",
   "execution_count": 50,
   "id": "99483fd8",
   "metadata": {},
   "outputs": [],
   "source": [
    "#Looping over each row and getting the text in the type-icon\n",
    "Type_One = [row.findAll('a', attrs = {\"class\" : \"type-icon\"})[0].get_text()\n",
    "               for row in table_rows]"
   ]
  },
  {
   "cell_type": "code",
   "execution_count": null,
   "id": "e64845ec",
   "metadata": {},
   "outputs": [],
   "source": []
  },
  {
   "cell_type": "markdown",
   "id": "c26fa885",
   "metadata": {},
   "source": [
    "# Getting the Second type of the Pokemon"
   ]
  },
  {
   "cell_type": "code",
   "execution_count": 51,
   "id": "df6a316a",
   "metadata": {},
   "outputs": [],
   "source": [
    "Type_Two = []\n",
    "\"\"\"\n",
    "This is the same process, but some pokemon do not have a second type, so the length of \n",
    "their <a class = \"type-icon\"> is only 1, which means I can only index 0. To combat this, I used \n",
    "a try except to call the index\n",
    "\"\"\"\n",
    "for row in table_rows:\n",
    "    try:\n",
    "        Type_Two.append(row.findAll('a', attrs = {\"class\" : 'type-icon'})[1].get_text())\n",
    "    except IndexError:\n",
    "        Type_Two.append(\"None\")"
   ]
  },
  {
   "cell_type": "code",
   "execution_count": null,
   "id": "3ecc135c",
   "metadata": {},
   "outputs": [],
   "source": []
  },
  {
   "cell_type": "markdown",
   "id": "effa08ed",
   "metadata": {},
   "source": [
    "## Going to get the pokemon species"
   ]
  },
  {
   "cell_type": "code",
   "execution_count": 52,
   "id": "508ab6c8",
   "metadata": {},
   "outputs": [],
   "source": [
    "#I will need this to go to each pokemon's personal information page and get their species\n",
    "main_link = \"https://pokemondb.net\""
   ]
  },
  {
   "cell_type": "code",
   "execution_count": 53,
   "id": "9ceff58a",
   "metadata": {},
   "outputs": [],
   "source": [
    "species = []\n",
    "\"\"\"\n",
    "The a[\"href\"] is the link to the pokemon's personal information. By concatinating it with the\n",
    "main link, we can access the pokemon's informatio, which will provide more data on the specific \n",
    "pokemon, the data we're looking for in this case is the pokemon's species\n",
    "\"\"\"\n",
    "for i,rows in enumerate(table_rows):\n",
    "    new_site = requests.get(main_link + table_rows[i].a['href'])\n",
    "    pp = bs(new_site.content)\n",
    "    a = pp.tbody\n",
    "    species.append(a.findAll(\"td\")[2].get_text())"
   ]
  },
  {
   "cell_type": "code",
   "execution_count": null,
   "id": "3d4f88b4",
   "metadata": {},
   "outputs": [],
   "source": []
  },
  {
   "cell_type": "code",
   "execution_count": 55,
   "id": "bdab7c05",
   "metadata": {},
   "outputs": [],
   "source": [
    "#species"
   ]
  },
  {
   "cell_type": "code",
   "execution_count": null,
   "id": "43846df7",
   "metadata": {},
   "outputs": [],
   "source": []
  },
  {
   "cell_type": "code",
   "execution_count": 56,
   "id": "0414891d",
   "metadata": {},
   "outputs": [],
   "source": [
    "#Type_Two"
   ]
  },
  {
   "cell_type": "markdown",
   "id": "db976940",
   "metadata": {},
   "source": [
    "## Going to get the Abilites"
   ]
  },
  {
   "cell_type": "code",
   "execution_count": 57,
   "id": "96cb763b",
   "metadata": {
    "scrolled": true
   },
   "outputs": [],
   "source": [
    "#This will be checked for each iteration of the loop, if true that means it's the main pokemon, if false, it means\n",
    "#that it's a variation(Mega, Alolan, Galarian, other form) of the main pokemon\n",
    "checked = []\n",
    "#This will hold the first ability\n",
    "first_abilities = []\n",
    "#This will hold the second ability\n",
    "second_abilities = []\n",
    "#This will hold the hidden ability\n",
    "hidden_abilities = []\n",
    "\n",
    "#Look at how we will solve Darmintan problem (table_rows[655:662])\n",
    "for i, row in enumerate(table_rows):\n",
    "    #Partner Eevee and Pikachu do not have any abilities at all\n",
    "    try:\n",
    "        #Need to use a try, because not all rows have a .small\n",
    "        if 'Partner' in row.small.get_text():\n",
    "            first_abilities.append(\"None\")\n",
    "            second_abilities.append(\"None\")\n",
    "            hidden_abilities.append(\"None\")\n",
    "            continue\n",
    "    except:\n",
    "        pass\n",
    "    if row.a.get_text() not in checked:\n",
    "        #This is for pokemon like Charizard and Mewtwo with two mega_ver, and pokemon with different forms\n",
    "        mega_ver = 0 \n",
    "        \n",
    "        #This is the site of the pokemon specific information, and we're going to the data-table on that page\n",
    "        new_site = requests.get(main_link + row.a['href'])\n",
    "        pp = bs(new_site.content)\n",
    "        o = pp.findAll(attrs = {\"class\" : \"text-muted\"})  \n",
    "        \n",
    "        #This will get all the abilites, of the pokemon as strings\n",
    "        abilities = [x.get_text() for x in o if x.a != None and 'ability' in x.a['href']]\n",
    "        number_of_abilities = len(abilities)\n",
    "        main_poke_abilities = []\n",
    "        \n",
    "        for i, ability in enumerate(abilities):\n",
    "            #The first ability is labeled with a '1.' on the website\n",
    "            if i != 0 and \"1.\" in ability:\n",
    "                break\n",
    "            else:\n",
    "                main_poke_abilities.append(ability)\n",
    "                \n",
    "        #The hidden abilities are seperated with hidden in their names \n",
    "        hidden_ability = [ability for ability in abilities if 'hidden' in ability]\n",
    "        \n",
    "        #This will have all the rest of the abilties, after removing the first one\n",
    "        remaining_abilities = abilities[len(main_poke_abilities) :]\n",
    "        \n",
    "        checked.append(row.a.get_text())\n",
    "        #Adding to the first_abilities list\n",
    "        first_abilities.append(main_poke_abilities[0].lstrip(\"1. \"))\n",
    "        \n",
    "        try:\n",
    "            #This will append the second ability after checking that it's not the hidden ability\n",
    "            if hidden_ability[0] != main_poke_abilities[1]:\n",
    "                second_abilities.append(main_poke_abilities[1].lstrip(\"2. \"))\n",
    "                main_poke_abilities.pop(0)\n",
    "            else:\n",
    "                second_abilities.append(\"None\")\n",
    "        except IndexError:\n",
    "            #In the case that there's no hidden ability, I cannot index it\n",
    "            #Also, if there are is no second ability, I cannot index it\n",
    "            second_abilities.append(\"None\")\n",
    "            \n",
    "        if len(hidden_ability) != 0:\n",
    "            hidden_abilities.append(hidden_ability[0].replace(\"(hidden ability)\", \"\").strip())\n",
    "        else:\n",
    "            hidden_abilities.append(\"None\") \n",
    "    else:\n",
    "        #If the main pokemon name is already present in checked, this part will run\n",
    "        #This is for all other forms of the pokemon(Megas, Alolan, Galarian, other)\n",
    "        try:\n",
    "            #Going to check if the pokemon's abilties, using an index, sometimes, the pokemon\n",
    "            #has the same ability as its main form, so I assign it as that\n",
    "            if \"1.\" in remaining_abilities[mega_ver]:\n",
    "                first_abilities.append(remaining_abilities[mega_ver].lstrip(\"1.\").strip())\n",
    "            else:\n",
    "                first_abilities.append(remaining_abilities[0].lstrip(\"1.\").strip())\n",
    "            #remaining_abilities.pop(0)\n",
    "        except:\n",
    "            pass\n",
    "        #Megas have no second/hidden abilities\n",
    "        if 'Mega' in row.small.get_text():\n",
    "            second_abilities.append(\"None\")\n",
    "            hidden_abilities.append(\"None\")\n",
    "        \n",
    "        #elif len(remaining_abilities)\n",
    "        \n",
    "        else:\n",
    "            #This is for every other form that's not a mega\n",
    "            try: \n",
    "                if 'hidden' not in remaining_abilities[1] and \"1.\" not in remaining_abilities[1]:\n",
    "                    second_abilities.append(remaining_abilities[1].lstrip(\"2.\").strip())\n",
    "                elif \"2.\" in remaining_abilities[2]:\n",
    "                    second_abilities.append(remaining_abilities[2].lstrip(\"2.\").strip())\n",
    "                else:\n",
    "                    second_abilities.append(\"None\")\n",
    "            except:\n",
    "                second_abilities.append(\"None\")\n",
    "            try:\n",
    "                hidden_abilities.append(hidden_ability[1].replace(\"(hidden ability)\", \"\").strip())\n",
    "            except:\n",
    "                hidden_abilities.append(\"None\")\n",
    "        mega_ver += 1"
   ]
  },
  {
   "cell_type": "code",
   "execution_count": 4,
   "id": "4b18c7c2",
   "metadata": {},
   "outputs": [],
   "source": [
    "#first_abilities"
   ]
  },
  {
   "cell_type": "code",
   "execution_count": 59,
   "id": "443b0da4",
   "metadata": {},
   "outputs": [],
   "source": [
    "#'Partner' in table_rows[172].small.get_text()"
   ]
  },
  {
   "cell_type": "markdown",
   "id": "0ef341ed",
   "metadata": {},
   "source": [
    "### What generation was this pokemon introduced in"
   ]
  },
  {
   "cell_type": "code",
   "execution_count": 60,
   "id": "31602a01",
   "metadata": {
    "scrolled": true
   },
   "outputs": [],
   "source": [
    "#Going to have to make all mega generation 6\n",
    "#Going to have to make all alolan generation 7\n",
    "#Going to have to make all Galarian generation 8\n",
    "generation = []\n",
    "for i,row in enumerate(table_rows):\n",
    "    try:\n",
    "        if \"Mega\" in row.small.get_text():\n",
    "            generation.append(\"Generation 6\")\n",
    "        elif \"Alolan\" in row.small.get_text():\n",
    "            generation.append(\"Generation 7\")\n",
    "        elif \"Galarian\" in row.small.get_text():\n",
    "            generation.append(\"Generation 8\")\n",
    "        #This is for the Partner Pikachu and Eevee, which, once again, are their own special cases\n",
    "        #Why do they have their own pokemon entry!\n",
    "        else:\n",
    "            new_site = requests.get(main_link + table_rows[i].a['href'])\n",
    "            pp = bs(new_site.content)\n",
    "            generation.append(pp.find(\"abbr\").get_text())\n",
    "    except:\n",
    "        new_site = requests.get(main_link + table_rows[i].a['href'])\n",
    "        pp = bs(new_site.content)\n",
    "        generation.append(pp.find(\"abbr\").get_text())"
   ]
  },
  {
   "cell_type": "code",
   "execution_count": 61,
   "id": "00851956",
   "metadata": {},
   "outputs": [
    {
     "data": {
      "text/plain": [
       "'Pikachu(Partner Pikachu)'"
      ]
     },
     "execution_count": 61,
     "metadata": {},
     "output_type": "execute_result"
    }
   ],
   "source": [
    "names[33]"
   ]
  },
  {
   "cell_type": "code",
   "execution_count": 62,
   "id": "3adf6bbd",
   "metadata": {},
   "outputs": [],
   "source": [
    "#second_abilities"
   ]
  },
  {
   "cell_type": "code",
   "execution_count": 63,
   "id": "9d405ee1",
   "metadata": {},
   "outputs": [
    {
     "data": {
      "text/plain": [
       "1044"
      ]
     },
     "execution_count": 63,
     "metadata": {},
     "output_type": "execute_result"
    }
   ],
   "source": [
    "len(first_abilities)"
   ]
  },
  {
   "cell_type": "markdown",
   "id": "16d516be",
   "metadata": {},
   "source": [
    "# Going to classify pokemon as legendary, sub legendary, or Mythical"
   ]
  },
  {
   "cell_type": "markdown",
   "id": "2f78c631",
   "metadata": {},
   "source": [
    "## There is a website that has these classifications, so we're going to scrape it\n",
    "### Totally uncessary, but its a review"
   ]
  },
  {
   "cell_type": "code",
   "execution_count": 64,
   "id": "cd2ac77f",
   "metadata": {},
   "outputs": [],
   "source": [
    "legend_req = requests.get(\"https://www.serebii.net/pokemon/legendary.shtml\")\n",
    "legend_site = bs(legend_req.content)"
   ]
  },
  {
   "cell_type": "code",
   "execution_count": 65,
   "id": "1320cf1a",
   "metadata": {},
   "outputs": [],
   "source": [
    "tables = legend_site.findAll('table', attrs = {\"class\" : \"trainer\"})"
   ]
  },
  {
   "cell_type": "code",
   "execution_count": 66,
   "id": "0b2e52f3",
   "metadata": {},
   "outputs": [],
   "source": [
    "legends = defaultdict(list)"
   ]
  },
  {
   "cell_type": "code",
   "execution_count": 67,
   "id": "94621298",
   "metadata": {},
   "outputs": [],
   "source": [
    "sub = tables[0]\n",
    "for name in sub.findAll(\"td\", attrs = {\"align\" : \"center\"}):\n",
    "    cur = name.find(\"a\")\n",
    "    try:\n",
    "        # I have to put the type/ instead of type because there's actually a pokemon called type null!\n",
    "        if \"type/\" not in cur['href'] and \"ability\" not in cur['href']:\n",
    "            legends[tables[0].td.get_text()].append(cur.get_text())\n",
    "    except:\n",
    "        pass"
   ]
  },
  {
   "cell_type": "code",
   "execution_count": 68,
   "id": "544c9a02",
   "metadata": {},
   "outputs": [],
   "source": [
    "sub = tables[1]\n",
    "for name in sub.findAll(\"td\", attrs = {\"align\" : \"center\"}):\n",
    "    cur = name.find(\"a\")\n",
    "    try:\n",
    "        # I have to put the type/ instead of type because there's actually a pokemon called type null!\n",
    "        if \"type/\" not in cur['href'] and \"ability\" not in cur['href']:\n",
    "            legends[tables[1].td.get_text()].append(cur.get_text())\n",
    "    except:\n",
    "        pass"
   ]
  },
  {
   "cell_type": "code",
   "execution_count": 69,
   "id": "afa5fa58",
   "metadata": {},
   "outputs": [],
   "source": [
    "sub = tables[2]\n",
    "for name in sub.findAll(\"td\", attrs = {\"align\" : \"center\"}):\n",
    "    cur = name.find(\"a\")\n",
    "    try:\n",
    "        # I have to put the type/ instead of type because there's actually a pokemon called type null!\n",
    "        if \"type/\" not in cur['href'] and \"ability\" not in cur['href']:\n",
    "            legends[tables[2].td.get_text()].append(cur.get_text())\n",
    "    except:\n",
    "        pass"
   ]
  },
  {
   "cell_type": "code",
   "execution_count": 70,
   "id": "6c0bc2ae",
   "metadata": {},
   "outputs": [],
   "source": [
    "legendary = legends['Legendary Pokémon']"
   ]
  },
  {
   "cell_type": "code",
   "execution_count": 71,
   "id": "b15786fe",
   "metadata": {},
   "outputs": [],
   "source": [
    "mythicals = legends[\"Mythical Pokémon\"]"
   ]
  },
  {
   "cell_type": "code",
   "execution_count": 72,
   "id": "770f5d8e",
   "metadata": {},
   "outputs": [],
   "source": [
    "sub_legendary = legends[\"Sub-Legendary Pokémon\"]"
   ]
  },
  {
   "cell_type": "code",
   "execution_count": 73,
   "id": "2a963b01",
   "metadata": {},
   "outputs": [],
   "source": [
    "is_legendary = []"
   ]
  },
  {
   "cell_type": "code",
   "execution_count": 74,
   "id": "b122e5e0",
   "metadata": {},
   "outputs": [],
   "source": [
    "is_mythical = []"
   ]
  },
  {
   "cell_type": "code",
   "execution_count": 75,
   "id": "8d83d66a",
   "metadata": {},
   "outputs": [],
   "source": [
    "is_sub = []"
   ]
  },
  {
   "cell_type": "code",
   "execution_count": 76,
   "id": "5f8c258a",
   "metadata": {},
   "outputs": [],
   "source": [
    "for row in table_rows:\n",
    "    is_legendary.append(row.a.get_text() in legendary)\n",
    "    is_mythical.append(row.a.get_text() in mythicals)\n",
    "    is_sub.append(row.a.get_text() in sub_legendary)"
   ]
  },
  {
   "cell_type": "code",
   "execution_count": 77,
   "id": "59e1eef9",
   "metadata": {},
   "outputs": [],
   "source": [
    "#These new generation 8 pokemon, some how left the last one without it's ability\n",
    "first_abilities.append(\"As One\")"
   ]
  },
  {
   "cell_type": "markdown",
   "id": "cddbd8c9",
   "metadata": {},
   "source": [
    "## Turning it into a pandas dataframe"
   ]
  },
  {
   "cell_type": "code",
   "execution_count": 78,
   "id": "c0d7f741",
   "metadata": {},
   "outputs": [],
   "source": [
    "info = { \n",
    "            'Names' : names,\n",
    "            'Pokemon Number' : poke_nums,\n",
    "            'Stat Total' : totals,\n",
    "            'HP': HP,\n",
    "            'Attack' : Attack,\n",
    "            'Defense' : Defense,\n",
    "            'Sp.Atk' : Sp_Atk,\n",
    "            'Sp.Def' : Sp_Def,\n",
    "            'Speed' : Speed,\n",
    "            'Mega'  : Mega,\n",
    "            'First Type' : Type_One,\n",
    "            'Second Type' : Type_Two,\n",
    "            'Species' : species,\n",
    "            'First Ability' : first_abilities,\n",
    "            'Second Ability' : second_abilities,\n",
    "            'Hidden Ability' : hidden_abilities,\n",
    "            'Generation' : generation,\n",
    "            \"Is Sub Legendary\" : is_sub,\n",
    "            \"Is Legendary\" : is_legendary,\n",
    "            \"Is Mythical\" : is_mythical,\n",
    "            }"
   ]
  },
  {
   "cell_type": "code",
   "execution_count": 79,
   "id": "e9a8b3ec",
   "metadata": {},
   "outputs": [],
   "source": [
    "poke_info = pd.DataFrame.from_dict(info)\n",
    "#Make the line below inplace = True after gathering more data\n",
    "poke_info.set_index('Names', inplace = True) "
   ]
  },
  {
   "cell_type": "code",
   "execution_count": 80,
   "id": "a1f76d94",
   "metadata": {},
   "outputs": [],
   "source": [
    "test = poke_info"
   ]
  },
  {
   "cell_type": "code",
   "execution_count": 81,
   "id": "713ef685",
   "metadata": {},
   "outputs": [
    {
     "ename": "NameError",
     "evalue": "name 'glance' is not defined",
     "output_type": "error",
     "traceback": [
      "\u001b[0;31m---------------------------------------------------------------------------\u001b[0m",
      "\u001b[0;31mNameError\u001b[0m                                 Traceback (most recent call last)",
      "\u001b[0;32m/var/folders/gn/8lq_jsh10qd1bht4j_km9vg40000gn/T/ipykernel_31471/525798159.py\u001b[0m in \u001b[0;36m<module>\u001b[0;34m\u001b[0m\n\u001b[0;32m----> 1\u001b[0;31m \u001b[0mfirst_100\u001b[0m \u001b[0;34m=\u001b[0m \u001b[0mglance\u001b[0m\u001b[0;34m.\u001b[0m\u001b[0miloc\u001b[0m\u001b[0;34m[\u001b[0m\u001b[0;34m:\u001b[0m\u001b[0;36m100\u001b[0m\u001b[0;34m,\u001b[0m \u001b[0;34m:\u001b[0m\u001b[0;34m]\u001b[0m\u001b[0;34m\u001b[0m\u001b[0;34m\u001b[0m\u001b[0m\n\u001b[0m",
      "\u001b[0;31mNameError\u001b[0m: name 'glance' is not defined"
     ]
    }
   ],
   "source": [
    "#first_100 = glance.iloc[:100, :]"
   ]
  },
  {
   "cell_type": "code",
   "execution_count": null,
   "id": "66937dd5",
   "metadata": {},
   "outputs": [],
   "source": [
    "(336.25 + 395.5 + 573.75) / 3"
   ]
  },
  {
   "cell_type": "code",
   "execution_count": null,
   "id": "bcb00fa7",
   "metadata": {},
   "outputs": [],
   "source": [
    "10285 / 26"
   ]
  },
  {
   "cell_type": "code",
   "execution_count": null,
   "id": "6a9849a0",
   "metadata": {},
   "outputs": [],
   "source": [
    "glance[glance[\"First Type\"] == \"Bug\"][\"Stat Total\"].sum()"
   ]
  },
  {
   "cell_type": "code",
   "execution_count": null,
   "id": "cf783ab1",
   "metadata": {},
   "outputs": [],
   "source": [
    "gen_1 = glance.pivot_table(values = \"Stat Total\", index = \"First Type\", \n",
    "                           columns = \"Generation\", fill_value = \"No Pokemon\", margins = True, aggfunc = np.mean)"
   ]
  },
  {
   "cell_type": "code",
   "execution_count": null,
   "id": "0f6c3ed0",
   "metadata": {},
   "outputs": [],
   "source": [
    "\"\"\"\n",
    "The values are all means, so the value in [Bug, Generation 1] is this mean for all the generation 1 pokemon\n",
    "The [Bug, All] column is the mean for all the the Bug pokemon\n",
    "\"\"\"\n",
    "gen_1"
   ]
  },
  {
   "cell_type": "markdown",
   "id": "cb998787",
   "metadata": {},
   "source": [
    "#### Eventually we are going to simulate battles with this data. The pokemon with a faster speed would go first and do damage of Sp.Atk or Attack (Highest one). It would do damage based on it's first type, or second type (let user decide). And the defending pokemon would guard (Keep type effectiveness in mind). The damage done will be Hp - (Attack - (Defense * 3)). \n",
    "#### Might add some balance stuff, so legendaries or megas go last, or if the stat total is way higher (twice or 1.5x) then it would go last."
   ]
  },
  {
   "cell_type": "code",
   "execution_count": null,
   "id": "46ca07b5",
   "metadata": {},
   "outputs": [],
   "source": [
    "data = first_100.groupby(\"First Type\").count()"
   ]
  },
  {
   "cell_type": "code",
   "execution_count": null,
   "id": "fcee17a5",
   "metadata": {},
   "outputs": [],
   "source": [
    "types = [Type for Type, x in data.iterrows()]"
   ]
  },
  {
   "cell_type": "code",
   "execution_count": null,
   "id": "276fca50",
   "metadata": {},
   "outputs": [],
   "source": [
    "amounts = [amount for amount in data['HP']]"
   ]
  },
  {
   "cell_type": "code",
   "execution_count": null,
   "id": "bbf78bdf",
   "metadata": {},
   "outputs": [],
   "source": [
    "len(types)"
   ]
  },
  {
   "cell_type": "code",
   "execution_count": null,
   "id": "1f2a5ef3",
   "metadata": {},
   "outputs": [],
   "source": [
    "plt.figure(figsize = (12,6))\n",
    "colors = [\"olive\",\"black\",\"yellow\", \"fuchsia\",\"sienna\", \"red\", \"limegreen\", \"peru\", \n",
    "          \"cyan\", \"lightgrey\", \"mediumorchid\", \"deeppink\", \"tan\", \"slategray\", \"dodgerblue\" ]\n",
    "\n",
    "plt.scatter(types,amounts, s = np.array(amounts) * 600, alpha = .9, c = colors)\n",
    "plt.title(\"First 100 pokemon and their types\")\n",
    "plt.show()"
   ]
  },
  {
   "cell_type": "code",
   "execution_count": null,
   "id": "f52524e4",
   "metadata": {},
   "outputs": [],
   "source": [
    "data_300 = glance.groupby(\"First Type\").count()"
   ]
  },
  {
   "cell_type": "code",
   "execution_count": null,
   "id": "38ddb7ae",
   "metadata": {},
   "outputs": [],
   "source": [
    "types_300 = [Type for Type, x in data_300.iterrows()]\n",
    "amounts_300 = [amount for amount in data_300['HP']]"
   ]
  },
  {
   "cell_type": "code",
   "execution_count": null,
   "id": "0ec90e46",
   "metadata": {},
   "outputs": [],
   "source": [
    "len(types_300)"
   ]
  },
  {
   "cell_type": "code",
   "execution_count": null,
   "id": "ecdbc358",
   "metadata": {},
   "outputs": [],
   "source": [
    "plt.clf()"
   ]
  },
  {
   "cell_type": "code",
   "execution_count": null,
   "id": "ceb7643e",
   "metadata": {},
   "outputs": [],
   "source": [
    "plt.figure(figsize = (14,6))\n",
    "colors_300 = [\"olive\",\"black\", \"darkgoldenrod\" , \"yellow\", \"fuchsia\",\"sienna\", \"red\", \"indigo\", \"limegreen\", \"peru\", \n",
    "          \"cyan\", \"lightgrey\", \"mediumorchid\", \"deeppink\", \"tan\", \"slategray\", \"dodgerblue\" ]\n",
    "\n",
    "plt.scatter(types_300, amounts_300, s = np.array(amounts_300) * 600, alpha = .9, c = colors_300)\n",
    "plt.title(\"First 300 pokemon and their types\")\n",
    "plt.show()"
   ]
  },
  {
   "cell_type": "code",
   "execution_count": null,
   "id": "af10e9e3",
   "metadata": {},
   "outputs": [],
   "source": [
    "glance[glance[\"Is Sub Legendary\"] == True]"
   ]
  },
  {
   "cell_type": "code",
   "execution_count": 83,
   "id": "dddc2e86",
   "metadata": {},
   "outputs": [
    {
     "data": {
      "text/html": [
       "<div>\n",
       "<style scoped>\n",
       "    .dataframe tbody tr th:only-of-type {\n",
       "        vertical-align: middle;\n",
       "    }\n",
       "\n",
       "    .dataframe tbody tr th {\n",
       "        vertical-align: top;\n",
       "    }\n",
       "\n",
       "    .dataframe thead th {\n",
       "        text-align: right;\n",
       "    }\n",
       "</style>\n",
       "<table border=\"1\" class=\"dataframe\">\n",
       "  <thead>\n",
       "    <tr style=\"text-align: right;\">\n",
       "      <th></th>\n",
       "      <th>Pokemon Number</th>\n",
       "      <th>Stat Total</th>\n",
       "      <th>HP</th>\n",
       "      <th>Attack</th>\n",
       "      <th>Defense</th>\n",
       "      <th>Sp.Atk</th>\n",
       "      <th>Sp.Def</th>\n",
       "      <th>Speed</th>\n",
       "      <th>Mega</th>\n",
       "      <th>First Type</th>\n",
       "      <th>Second Type</th>\n",
       "      <th>Species</th>\n",
       "      <th>First Ability</th>\n",
       "      <th>Second Ability</th>\n",
       "      <th>Hidden Ability</th>\n",
       "      <th>Generation</th>\n",
       "      <th>Is Sub Legendary</th>\n",
       "      <th>Is Legendary</th>\n",
       "      <th>Is Mythical</th>\n",
       "    </tr>\n",
       "    <tr>\n",
       "      <th>Names</th>\n",
       "      <th></th>\n",
       "      <th></th>\n",
       "      <th></th>\n",
       "      <th></th>\n",
       "      <th></th>\n",
       "      <th></th>\n",
       "      <th></th>\n",
       "      <th></th>\n",
       "      <th></th>\n",
       "      <th></th>\n",
       "      <th></th>\n",
       "      <th></th>\n",
       "      <th></th>\n",
       "      <th></th>\n",
       "      <th></th>\n",
       "      <th></th>\n",
       "      <th></th>\n",
       "      <th></th>\n",
       "      <th></th>\n",
       "    </tr>\n",
       "  </thead>\n",
       "  <tbody>\n",
       "    <tr>\n",
       "      <th>Venusaur(Mega Venusaur)</th>\n",
       "      <td>003</td>\n",
       "      <td>625</td>\n",
       "      <td>80</td>\n",
       "      <td>100</td>\n",
       "      <td>123</td>\n",
       "      <td>122</td>\n",
       "      <td>120</td>\n",
       "      <td>80</td>\n",
       "      <td>True</td>\n",
       "      <td>Grass</td>\n",
       "      <td>Poison</td>\n",
       "      <td>Seed Pokémon</td>\n",
       "      <td>Thick Fat</td>\n",
       "      <td>None</td>\n",
       "      <td>None</td>\n",
       "      <td>Generation 6</td>\n",
       "      <td>False</td>\n",
       "      <td>False</td>\n",
       "      <td>False</td>\n",
       "    </tr>\n",
       "    <tr>\n",
       "      <th>Charizard(Mega Charizard X)</th>\n",
       "      <td>006</td>\n",
       "      <td>634</td>\n",
       "      <td>78</td>\n",
       "      <td>130</td>\n",
       "      <td>111</td>\n",
       "      <td>130</td>\n",
       "      <td>85</td>\n",
       "      <td>100</td>\n",
       "      <td>True</td>\n",
       "      <td>Fire</td>\n",
       "      <td>Dragon</td>\n",
       "      <td>Flame Pokémon</td>\n",
       "      <td>Tough Claws</td>\n",
       "      <td>None</td>\n",
       "      <td>None</td>\n",
       "      <td>Generation 6</td>\n",
       "      <td>False</td>\n",
       "      <td>False</td>\n",
       "      <td>False</td>\n",
       "    </tr>\n",
       "    <tr>\n",
       "      <th>Charizard(Mega Charizard Y)</th>\n",
       "      <td>006</td>\n",
       "      <td>634</td>\n",
       "      <td>78</td>\n",
       "      <td>104</td>\n",
       "      <td>78</td>\n",
       "      <td>159</td>\n",
       "      <td>115</td>\n",
       "      <td>100</td>\n",
       "      <td>True</td>\n",
       "      <td>Fire</td>\n",
       "      <td>Flying</td>\n",
       "      <td>Flame Pokémon</td>\n",
       "      <td>Drought</td>\n",
       "      <td>None</td>\n",
       "      <td>None</td>\n",
       "      <td>Generation 6</td>\n",
       "      <td>False</td>\n",
       "      <td>False</td>\n",
       "      <td>False</td>\n",
       "    </tr>\n",
       "    <tr>\n",
       "      <th>Blastoise(Mega Blastoise)</th>\n",
       "      <td>009</td>\n",
       "      <td>630</td>\n",
       "      <td>79</td>\n",
       "      <td>103</td>\n",
       "      <td>120</td>\n",
       "      <td>135</td>\n",
       "      <td>115</td>\n",
       "      <td>78</td>\n",
       "      <td>True</td>\n",
       "      <td>Water</td>\n",
       "      <td>None</td>\n",
       "      <td>Shellfish Pokémon</td>\n",
       "      <td>Mega Launcher</td>\n",
       "      <td>None</td>\n",
       "      <td>None</td>\n",
       "      <td>Generation 6</td>\n",
       "      <td>False</td>\n",
       "      <td>False</td>\n",
       "      <td>False</td>\n",
       "    </tr>\n",
       "    <tr>\n",
       "      <th>Beedrill(Mega Beedrill)</th>\n",
       "      <td>015</td>\n",
       "      <td>495</td>\n",
       "      <td>65</td>\n",
       "      <td>150</td>\n",
       "      <td>40</td>\n",
       "      <td>15</td>\n",
       "      <td>80</td>\n",
       "      <td>145</td>\n",
       "      <td>True</td>\n",
       "      <td>Bug</td>\n",
       "      <td>Poison</td>\n",
       "      <td>Poison Bee Pokémon</td>\n",
       "      <td>Adaptability</td>\n",
       "      <td>None</td>\n",
       "      <td>None</td>\n",
       "      <td>Generation 6</td>\n",
       "      <td>False</td>\n",
       "      <td>False</td>\n",
       "      <td>False</td>\n",
       "    </tr>\n",
       "    <tr>\n",
       "      <th>Pidgeot(Mega Pidgeot)</th>\n",
       "      <td>018</td>\n",
       "      <td>579</td>\n",
       "      <td>83</td>\n",
       "      <td>80</td>\n",
       "      <td>80</td>\n",
       "      <td>135</td>\n",
       "      <td>80</td>\n",
       "      <td>121</td>\n",
       "      <td>True</td>\n",
       "      <td>Normal</td>\n",
       "      <td>Flying</td>\n",
       "      <td>Bird Pokémon</td>\n",
       "      <td>No Guard</td>\n",
       "      <td>None</td>\n",
       "      <td>None</td>\n",
       "      <td>Generation 6</td>\n",
       "      <td>False</td>\n",
       "      <td>False</td>\n",
       "      <td>False</td>\n",
       "    </tr>\n",
       "    <tr>\n",
       "      <th>Alakazam(Mega Alakazam)</th>\n",
       "      <td>065</td>\n",
       "      <td>600</td>\n",
       "      <td>55</td>\n",
       "      <td>50</td>\n",
       "      <td>65</td>\n",
       "      <td>175</td>\n",
       "      <td>105</td>\n",
       "      <td>150</td>\n",
       "      <td>True</td>\n",
       "      <td>Psychic</td>\n",
       "      <td>None</td>\n",
       "      <td>Psi Pokémon</td>\n",
       "      <td>Trace</td>\n",
       "      <td>None</td>\n",
       "      <td>None</td>\n",
       "      <td>Generation 6</td>\n",
       "      <td>False</td>\n",
       "      <td>False</td>\n",
       "      <td>False</td>\n",
       "    </tr>\n",
       "    <tr>\n",
       "      <th>Slowbro(Mega Slowbro)</th>\n",
       "      <td>080</td>\n",
       "      <td>590</td>\n",
       "      <td>95</td>\n",
       "      <td>75</td>\n",
       "      <td>180</td>\n",
       "      <td>130</td>\n",
       "      <td>80</td>\n",
       "      <td>30</td>\n",
       "      <td>True</td>\n",
       "      <td>Water</td>\n",
       "      <td>Psychic</td>\n",
       "      <td>Hermit Crab Pokémon</td>\n",
       "      <td>Shell Armor</td>\n",
       "      <td>None</td>\n",
       "      <td>None</td>\n",
       "      <td>Generation 6</td>\n",
       "      <td>False</td>\n",
       "      <td>False</td>\n",
       "      <td>False</td>\n",
       "    </tr>\n",
       "    <tr>\n",
       "      <th>Gengar(Mega Gengar)</th>\n",
       "      <td>094</td>\n",
       "      <td>600</td>\n",
       "      <td>60</td>\n",
       "      <td>65</td>\n",
       "      <td>80</td>\n",
       "      <td>170</td>\n",
       "      <td>95</td>\n",
       "      <td>130</td>\n",
       "      <td>True</td>\n",
       "      <td>Ghost</td>\n",
       "      <td>Poison</td>\n",
       "      <td>Shadow Pokémon</td>\n",
       "      <td>Shadow Tag</td>\n",
       "      <td>None</td>\n",
       "      <td>None</td>\n",
       "      <td>Generation 6</td>\n",
       "      <td>False</td>\n",
       "      <td>False</td>\n",
       "      <td>False</td>\n",
       "    </tr>\n",
       "    <tr>\n",
       "      <th>Kangaskhan(Mega Kangaskhan)</th>\n",
       "      <td>115</td>\n",
       "      <td>590</td>\n",
       "      <td>105</td>\n",
       "      <td>125</td>\n",
       "      <td>100</td>\n",
       "      <td>60</td>\n",
       "      <td>100</td>\n",
       "      <td>100</td>\n",
       "      <td>True</td>\n",
       "      <td>Normal</td>\n",
       "      <td>None</td>\n",
       "      <td>Parent Pokémon</td>\n",
       "      <td>Parental Bond</td>\n",
       "      <td>None</td>\n",
       "      <td>None</td>\n",
       "      <td>Generation 6</td>\n",
       "      <td>False</td>\n",
       "      <td>False</td>\n",
       "      <td>False</td>\n",
       "    </tr>\n",
       "    <tr>\n",
       "      <th>Pinsir(Mega Pinsir)</th>\n",
       "      <td>127</td>\n",
       "      <td>600</td>\n",
       "      <td>65</td>\n",
       "      <td>155</td>\n",
       "      <td>120</td>\n",
       "      <td>65</td>\n",
       "      <td>90</td>\n",
       "      <td>105</td>\n",
       "      <td>True</td>\n",
       "      <td>Bug</td>\n",
       "      <td>Flying</td>\n",
       "      <td>Stag Beetle Pokémon</td>\n",
       "      <td>Aerilate</td>\n",
       "      <td>None</td>\n",
       "      <td>None</td>\n",
       "      <td>Generation 6</td>\n",
       "      <td>False</td>\n",
       "      <td>False</td>\n",
       "      <td>False</td>\n",
       "    </tr>\n",
       "    <tr>\n",
       "      <th>Gyarados(Mega Gyarados)</th>\n",
       "      <td>130</td>\n",
       "      <td>640</td>\n",
       "      <td>95</td>\n",
       "      <td>155</td>\n",
       "      <td>109</td>\n",
       "      <td>70</td>\n",
       "      <td>130</td>\n",
       "      <td>81</td>\n",
       "      <td>True</td>\n",
       "      <td>Water</td>\n",
       "      <td>Dark</td>\n",
       "      <td>Atrocious Pokémon</td>\n",
       "      <td>Mold Breaker</td>\n",
       "      <td>None</td>\n",
       "      <td>None</td>\n",
       "      <td>Generation 6</td>\n",
       "      <td>False</td>\n",
       "      <td>False</td>\n",
       "      <td>False</td>\n",
       "    </tr>\n",
       "    <tr>\n",
       "      <th>Aerodactyl(Mega Aerodactyl)</th>\n",
       "      <td>142</td>\n",
       "      <td>615</td>\n",
       "      <td>80</td>\n",
       "      <td>135</td>\n",
       "      <td>85</td>\n",
       "      <td>70</td>\n",
       "      <td>95</td>\n",
       "      <td>150</td>\n",
       "      <td>True</td>\n",
       "      <td>Rock</td>\n",
       "      <td>Flying</td>\n",
       "      <td>Fossil Pokémon</td>\n",
       "      <td>Tough Claws</td>\n",
       "      <td>None</td>\n",
       "      <td>None</td>\n",
       "      <td>Generation 6</td>\n",
       "      <td>False</td>\n",
       "      <td>False</td>\n",
       "      <td>False</td>\n",
       "    </tr>\n",
       "    <tr>\n",
       "      <th>Mewtwo(Mega Mewtwo X)</th>\n",
       "      <td>150</td>\n",
       "      <td>780</td>\n",
       "      <td>106</td>\n",
       "      <td>190</td>\n",
       "      <td>100</td>\n",
       "      <td>154</td>\n",
       "      <td>100</td>\n",
       "      <td>130</td>\n",
       "      <td>True</td>\n",
       "      <td>Psychic</td>\n",
       "      <td>Fighting</td>\n",
       "      <td>Genetic Pokémon</td>\n",
       "      <td>Steadfast</td>\n",
       "      <td>None</td>\n",
       "      <td>None</td>\n",
       "      <td>Generation 6</td>\n",
       "      <td>False</td>\n",
       "      <td>True</td>\n",
       "      <td>False</td>\n",
       "    </tr>\n",
       "    <tr>\n",
       "      <th>Mewtwo(Mega Mewtwo Y)</th>\n",
       "      <td>150</td>\n",
       "      <td>780</td>\n",
       "      <td>106</td>\n",
       "      <td>150</td>\n",
       "      <td>70</td>\n",
       "      <td>194</td>\n",
       "      <td>120</td>\n",
       "      <td>140</td>\n",
       "      <td>True</td>\n",
       "      <td>Psychic</td>\n",
       "      <td>None</td>\n",
       "      <td>Genetic Pokémon</td>\n",
       "      <td>Insomnia</td>\n",
       "      <td>None</td>\n",
       "      <td>None</td>\n",
       "      <td>Generation 6</td>\n",
       "      <td>False</td>\n",
       "      <td>True</td>\n",
       "      <td>False</td>\n",
       "    </tr>\n",
       "    <tr>\n",
       "      <th>Ampharos(Mega Ampharos)</th>\n",
       "      <td>181</td>\n",
       "      <td>610</td>\n",
       "      <td>90</td>\n",
       "      <td>95</td>\n",
       "      <td>105</td>\n",
       "      <td>165</td>\n",
       "      <td>110</td>\n",
       "      <td>45</td>\n",
       "      <td>True</td>\n",
       "      <td>Electric</td>\n",
       "      <td>Dragon</td>\n",
       "      <td>Light Pokémon</td>\n",
       "      <td>Mold Breaker</td>\n",
       "      <td>None</td>\n",
       "      <td>None</td>\n",
       "      <td>Generation 6</td>\n",
       "      <td>False</td>\n",
       "      <td>False</td>\n",
       "      <td>False</td>\n",
       "    </tr>\n",
       "    <tr>\n",
       "      <th>Steelix(Mega Steelix)</th>\n",
       "      <td>208</td>\n",
       "      <td>610</td>\n",
       "      <td>75</td>\n",
       "      <td>125</td>\n",
       "      <td>230</td>\n",
       "      <td>55</td>\n",
       "      <td>95</td>\n",
       "      <td>30</td>\n",
       "      <td>True</td>\n",
       "      <td>Steel</td>\n",
       "      <td>Ground</td>\n",
       "      <td>Iron Snake Pokémon</td>\n",
       "      <td>Sand Force</td>\n",
       "      <td>None</td>\n",
       "      <td>None</td>\n",
       "      <td>Generation 6</td>\n",
       "      <td>False</td>\n",
       "      <td>False</td>\n",
       "      <td>False</td>\n",
       "    </tr>\n",
       "    <tr>\n",
       "      <th>Scizor(Mega Scizor)</th>\n",
       "      <td>212</td>\n",
       "      <td>600</td>\n",
       "      <td>70</td>\n",
       "      <td>150</td>\n",
       "      <td>140</td>\n",
       "      <td>65</td>\n",
       "      <td>100</td>\n",
       "      <td>75</td>\n",
       "      <td>True</td>\n",
       "      <td>Bug</td>\n",
       "      <td>Steel</td>\n",
       "      <td>Pincer Pokémon</td>\n",
       "      <td>Technician</td>\n",
       "      <td>None</td>\n",
       "      <td>None</td>\n",
       "      <td>Generation 6</td>\n",
       "      <td>False</td>\n",
       "      <td>False</td>\n",
       "      <td>False</td>\n",
       "    </tr>\n",
       "    <tr>\n",
       "      <th>Heracross(Mega Heracross)</th>\n",
       "      <td>214</td>\n",
       "      <td>600</td>\n",
       "      <td>80</td>\n",
       "      <td>185</td>\n",
       "      <td>115</td>\n",
       "      <td>40</td>\n",
       "      <td>105</td>\n",
       "      <td>75</td>\n",
       "      <td>True</td>\n",
       "      <td>Bug</td>\n",
       "      <td>Fighting</td>\n",
       "      <td>Single Horn Pokémon</td>\n",
       "      <td>Skill Link</td>\n",
       "      <td>None</td>\n",
       "      <td>None</td>\n",
       "      <td>Generation 6</td>\n",
       "      <td>False</td>\n",
       "      <td>False</td>\n",
       "      <td>False</td>\n",
       "    </tr>\n",
       "    <tr>\n",
       "      <th>Houndoom(Mega Houndoom)</th>\n",
       "      <td>229</td>\n",
       "      <td>600</td>\n",
       "      <td>75</td>\n",
       "      <td>90</td>\n",
       "      <td>90</td>\n",
       "      <td>140</td>\n",
       "      <td>90</td>\n",
       "      <td>115</td>\n",
       "      <td>True</td>\n",
       "      <td>Dark</td>\n",
       "      <td>Fire</td>\n",
       "      <td>Dark Pokémon</td>\n",
       "      <td>Solar Power</td>\n",
       "      <td>None</td>\n",
       "      <td>None</td>\n",
       "      <td>Generation 6</td>\n",
       "      <td>False</td>\n",
       "      <td>False</td>\n",
       "      <td>False</td>\n",
       "    </tr>\n",
       "    <tr>\n",
       "      <th>Tyranitar(Mega Tyranitar)</th>\n",
       "      <td>248</td>\n",
       "      <td>700</td>\n",
       "      <td>100</td>\n",
       "      <td>164</td>\n",
       "      <td>150</td>\n",
       "      <td>95</td>\n",
       "      <td>120</td>\n",
       "      <td>71</td>\n",
       "      <td>True</td>\n",
       "      <td>Rock</td>\n",
       "      <td>Dark</td>\n",
       "      <td>Armor Pokémon</td>\n",
       "      <td>Sand Stream</td>\n",
       "      <td>None</td>\n",
       "      <td>None</td>\n",
       "      <td>Generation 6</td>\n",
       "      <td>False</td>\n",
       "      <td>False</td>\n",
       "      <td>False</td>\n",
       "    </tr>\n",
       "    <tr>\n",
       "      <th>Sceptile(Mega Sceptile)</th>\n",
       "      <td>254</td>\n",
       "      <td>630</td>\n",
       "      <td>70</td>\n",
       "      <td>110</td>\n",
       "      <td>75</td>\n",
       "      <td>145</td>\n",
       "      <td>85</td>\n",
       "      <td>145</td>\n",
       "      <td>True</td>\n",
       "      <td>Grass</td>\n",
       "      <td>Dragon</td>\n",
       "      <td>Forest Pokémon</td>\n",
       "      <td>Lightning Rod</td>\n",
       "      <td>None</td>\n",
       "      <td>None</td>\n",
       "      <td>Generation 6</td>\n",
       "      <td>False</td>\n",
       "      <td>False</td>\n",
       "      <td>False</td>\n",
       "    </tr>\n",
       "    <tr>\n",
       "      <th>Blaziken(Mega Blaziken)</th>\n",
       "      <td>257</td>\n",
       "      <td>630</td>\n",
       "      <td>80</td>\n",
       "      <td>160</td>\n",
       "      <td>80</td>\n",
       "      <td>130</td>\n",
       "      <td>80</td>\n",
       "      <td>100</td>\n",
       "      <td>True</td>\n",
       "      <td>Fire</td>\n",
       "      <td>Fighting</td>\n",
       "      <td>Blaze Pokémon</td>\n",
       "      <td>Speed Boost</td>\n",
       "      <td>None</td>\n",
       "      <td>None</td>\n",
       "      <td>Generation 6</td>\n",
       "      <td>False</td>\n",
       "      <td>False</td>\n",
       "      <td>False</td>\n",
       "    </tr>\n",
       "    <tr>\n",
       "      <th>Swampert(Mega Swampert)</th>\n",
       "      <td>260</td>\n",
       "      <td>635</td>\n",
       "      <td>100</td>\n",
       "      <td>150</td>\n",
       "      <td>110</td>\n",
       "      <td>95</td>\n",
       "      <td>110</td>\n",
       "      <td>70</td>\n",
       "      <td>True</td>\n",
       "      <td>Water</td>\n",
       "      <td>Ground</td>\n",
       "      <td>Mud Fish Pokémon</td>\n",
       "      <td>Swift Swim</td>\n",
       "      <td>None</td>\n",
       "      <td>None</td>\n",
       "      <td>Generation 6</td>\n",
       "      <td>False</td>\n",
       "      <td>False</td>\n",
       "      <td>False</td>\n",
       "    </tr>\n",
       "    <tr>\n",
       "      <th>Gardevoir(Mega Gardevoir)</th>\n",
       "      <td>282</td>\n",
       "      <td>618</td>\n",
       "      <td>68</td>\n",
       "      <td>85</td>\n",
       "      <td>65</td>\n",
       "      <td>165</td>\n",
       "      <td>135</td>\n",
       "      <td>100</td>\n",
       "      <td>True</td>\n",
       "      <td>Psychic</td>\n",
       "      <td>Fairy</td>\n",
       "      <td>Embrace Pokémon</td>\n",
       "      <td>Pixilate</td>\n",
       "      <td>None</td>\n",
       "      <td>None</td>\n",
       "      <td>Generation 6</td>\n",
       "      <td>False</td>\n",
       "      <td>False</td>\n",
       "      <td>False</td>\n",
       "    </tr>\n",
       "    <tr>\n",
       "      <th>Sableye(Mega Sableye)</th>\n",
       "      <td>302</td>\n",
       "      <td>480</td>\n",
       "      <td>50</td>\n",
       "      <td>85</td>\n",
       "      <td>125</td>\n",
       "      <td>85</td>\n",
       "      <td>115</td>\n",
       "      <td>20</td>\n",
       "      <td>True</td>\n",
       "      <td>Dark</td>\n",
       "      <td>Ghost</td>\n",
       "      <td>Darkness Pokémon</td>\n",
       "      <td>Magic Bounce</td>\n",
       "      <td>None</td>\n",
       "      <td>None</td>\n",
       "      <td>Generation 6</td>\n",
       "      <td>False</td>\n",
       "      <td>False</td>\n",
       "      <td>False</td>\n",
       "    </tr>\n",
       "    <tr>\n",
       "      <th>Mawile(Mega Mawile)</th>\n",
       "      <td>303</td>\n",
       "      <td>480</td>\n",
       "      <td>50</td>\n",
       "      <td>105</td>\n",
       "      <td>125</td>\n",
       "      <td>55</td>\n",
       "      <td>95</td>\n",
       "      <td>50</td>\n",
       "      <td>True</td>\n",
       "      <td>Steel</td>\n",
       "      <td>Fairy</td>\n",
       "      <td>Deceiver Pokémon</td>\n",
       "      <td>Huge Power</td>\n",
       "      <td>None</td>\n",
       "      <td>None</td>\n",
       "      <td>Generation 6</td>\n",
       "      <td>False</td>\n",
       "      <td>False</td>\n",
       "      <td>False</td>\n",
       "    </tr>\n",
       "    <tr>\n",
       "      <th>Aggron(Mega Aggron)</th>\n",
       "      <td>306</td>\n",
       "      <td>630</td>\n",
       "      <td>70</td>\n",
       "      <td>140</td>\n",
       "      <td>230</td>\n",
       "      <td>60</td>\n",
       "      <td>80</td>\n",
       "      <td>50</td>\n",
       "      <td>True</td>\n",
       "      <td>Steel</td>\n",
       "      <td>None</td>\n",
       "      <td>Iron Armor Pokémon</td>\n",
       "      <td>Filter</td>\n",
       "      <td>None</td>\n",
       "      <td>None</td>\n",
       "      <td>Generation 6</td>\n",
       "      <td>False</td>\n",
       "      <td>False</td>\n",
       "      <td>False</td>\n",
       "    </tr>\n",
       "    <tr>\n",
       "      <th>Medicham(Mega Medicham)</th>\n",
       "      <td>308</td>\n",
       "      <td>510</td>\n",
       "      <td>60</td>\n",
       "      <td>100</td>\n",
       "      <td>85</td>\n",
       "      <td>80</td>\n",
       "      <td>85</td>\n",
       "      <td>100</td>\n",
       "      <td>True</td>\n",
       "      <td>Fighting</td>\n",
       "      <td>Psychic</td>\n",
       "      <td>Meditate Pokémon</td>\n",
       "      <td>Pure Power</td>\n",
       "      <td>None</td>\n",
       "      <td>None</td>\n",
       "      <td>Generation 6</td>\n",
       "      <td>False</td>\n",
       "      <td>False</td>\n",
       "      <td>False</td>\n",
       "    </tr>\n",
       "    <tr>\n",
       "      <th>Manectric(Mega Manectric)</th>\n",
       "      <td>310</td>\n",
       "      <td>575</td>\n",
       "      <td>70</td>\n",
       "      <td>75</td>\n",
       "      <td>80</td>\n",
       "      <td>135</td>\n",
       "      <td>80</td>\n",
       "      <td>135</td>\n",
       "      <td>True</td>\n",
       "      <td>Electric</td>\n",
       "      <td>None</td>\n",
       "      <td>Discharge Pokémon</td>\n",
       "      <td>Intimidate</td>\n",
       "      <td>None</td>\n",
       "      <td>None</td>\n",
       "      <td>Generation 6</td>\n",
       "      <td>False</td>\n",
       "      <td>False</td>\n",
       "      <td>False</td>\n",
       "    </tr>\n",
       "    <tr>\n",
       "      <th>Sharpedo(Mega Sharpedo)</th>\n",
       "      <td>319</td>\n",
       "      <td>560</td>\n",
       "      <td>70</td>\n",
       "      <td>140</td>\n",
       "      <td>70</td>\n",
       "      <td>110</td>\n",
       "      <td>65</td>\n",
       "      <td>105</td>\n",
       "      <td>True</td>\n",
       "      <td>Water</td>\n",
       "      <td>Dark</td>\n",
       "      <td>Brutal Pokémon</td>\n",
       "      <td>Strong Jaw</td>\n",
       "      <td>None</td>\n",
       "      <td>None</td>\n",
       "      <td>Generation 6</td>\n",
       "      <td>False</td>\n",
       "      <td>False</td>\n",
       "      <td>False</td>\n",
       "    </tr>\n",
       "    <tr>\n",
       "      <th>Camerupt(Mega Camerupt)</th>\n",
       "      <td>323</td>\n",
       "      <td>560</td>\n",
       "      <td>70</td>\n",
       "      <td>120</td>\n",
       "      <td>100</td>\n",
       "      <td>145</td>\n",
       "      <td>105</td>\n",
       "      <td>20</td>\n",
       "      <td>True</td>\n",
       "      <td>Fire</td>\n",
       "      <td>Ground</td>\n",
       "      <td>Eruption Pokémon</td>\n",
       "      <td>Sheer Force</td>\n",
       "      <td>None</td>\n",
       "      <td>None</td>\n",
       "      <td>Generation 6</td>\n",
       "      <td>False</td>\n",
       "      <td>False</td>\n",
       "      <td>False</td>\n",
       "    </tr>\n",
       "    <tr>\n",
       "      <th>Altaria(Mega Altaria)</th>\n",
       "      <td>334</td>\n",
       "      <td>590</td>\n",
       "      <td>75</td>\n",
       "      <td>110</td>\n",
       "      <td>110</td>\n",
       "      <td>110</td>\n",
       "      <td>105</td>\n",
       "      <td>80</td>\n",
       "      <td>True</td>\n",
       "      <td>Dragon</td>\n",
       "      <td>Fairy</td>\n",
       "      <td>Humming Pokémon</td>\n",
       "      <td>Pixilate</td>\n",
       "      <td>None</td>\n",
       "      <td>None</td>\n",
       "      <td>Generation 6</td>\n",
       "      <td>False</td>\n",
       "      <td>False</td>\n",
       "      <td>False</td>\n",
       "    </tr>\n",
       "    <tr>\n",
       "      <th>Banette(Mega Banette)</th>\n",
       "      <td>354</td>\n",
       "      <td>555</td>\n",
       "      <td>64</td>\n",
       "      <td>165</td>\n",
       "      <td>75</td>\n",
       "      <td>93</td>\n",
       "      <td>83</td>\n",
       "      <td>75</td>\n",
       "      <td>True</td>\n",
       "      <td>Ghost</td>\n",
       "      <td>None</td>\n",
       "      <td>Marionette Pokémon</td>\n",
       "      <td>Prankster</td>\n",
       "      <td>None</td>\n",
       "      <td>None</td>\n",
       "      <td>Generation 6</td>\n",
       "      <td>False</td>\n",
       "      <td>False</td>\n",
       "      <td>False</td>\n",
       "    </tr>\n",
       "    <tr>\n",
       "      <th>Absol(Mega Absol)</th>\n",
       "      <td>359</td>\n",
       "      <td>565</td>\n",
       "      <td>65</td>\n",
       "      <td>150</td>\n",
       "      <td>60</td>\n",
       "      <td>115</td>\n",
       "      <td>60</td>\n",
       "      <td>115</td>\n",
       "      <td>True</td>\n",
       "      <td>Dark</td>\n",
       "      <td>None</td>\n",
       "      <td>Disaster Pokémon</td>\n",
       "      <td>Magic Bounce</td>\n",
       "      <td>None</td>\n",
       "      <td>None</td>\n",
       "      <td>Generation 6</td>\n",
       "      <td>False</td>\n",
       "      <td>False</td>\n",
       "      <td>False</td>\n",
       "    </tr>\n",
       "    <tr>\n",
       "      <th>Glalie(Mega Glalie)</th>\n",
       "      <td>362</td>\n",
       "      <td>580</td>\n",
       "      <td>80</td>\n",
       "      <td>120</td>\n",
       "      <td>80</td>\n",
       "      <td>120</td>\n",
       "      <td>80</td>\n",
       "      <td>100</td>\n",
       "      <td>True</td>\n",
       "      <td>Ice</td>\n",
       "      <td>None</td>\n",
       "      <td>Face Pokémon</td>\n",
       "      <td>Refrigerate</td>\n",
       "      <td>None</td>\n",
       "      <td>None</td>\n",
       "      <td>Generation 6</td>\n",
       "      <td>False</td>\n",
       "      <td>False</td>\n",
       "      <td>False</td>\n",
       "    </tr>\n",
       "    <tr>\n",
       "      <th>Salamence(Mega Salamence)</th>\n",
       "      <td>373</td>\n",
       "      <td>700</td>\n",
       "      <td>95</td>\n",
       "      <td>145</td>\n",
       "      <td>130</td>\n",
       "      <td>120</td>\n",
       "      <td>90</td>\n",
       "      <td>120</td>\n",
       "      <td>True</td>\n",
       "      <td>Dragon</td>\n",
       "      <td>Flying</td>\n",
       "      <td>Dragon Pokémon</td>\n",
       "      <td>Aerilate</td>\n",
       "      <td>None</td>\n",
       "      <td>None</td>\n",
       "      <td>Generation 6</td>\n",
       "      <td>False</td>\n",
       "      <td>False</td>\n",
       "      <td>False</td>\n",
       "    </tr>\n",
       "    <tr>\n",
       "      <th>Metagross(Mega Metagross)</th>\n",
       "      <td>376</td>\n",
       "      <td>700</td>\n",
       "      <td>80</td>\n",
       "      <td>145</td>\n",
       "      <td>150</td>\n",
       "      <td>105</td>\n",
       "      <td>110</td>\n",
       "      <td>110</td>\n",
       "      <td>True</td>\n",
       "      <td>Steel</td>\n",
       "      <td>Psychic</td>\n",
       "      <td>Iron Leg Pokémon</td>\n",
       "      <td>Tough Claws</td>\n",
       "      <td>None</td>\n",
       "      <td>None</td>\n",
       "      <td>Generation 6</td>\n",
       "      <td>False</td>\n",
       "      <td>False</td>\n",
       "      <td>False</td>\n",
       "    </tr>\n",
       "    <tr>\n",
       "      <th>Latias(Mega Latias)</th>\n",
       "      <td>380</td>\n",
       "      <td>700</td>\n",
       "      <td>80</td>\n",
       "      <td>100</td>\n",
       "      <td>120</td>\n",
       "      <td>140</td>\n",
       "      <td>150</td>\n",
       "      <td>110</td>\n",
       "      <td>True</td>\n",
       "      <td>Dragon</td>\n",
       "      <td>Psychic</td>\n",
       "      <td>Eon Pokémon</td>\n",
       "      <td>Levitate</td>\n",
       "      <td>None</td>\n",
       "      <td>None</td>\n",
       "      <td>Generation 6</td>\n",
       "      <td>True</td>\n",
       "      <td>False</td>\n",
       "      <td>False</td>\n",
       "    </tr>\n",
       "    <tr>\n",
       "      <th>Latios(Mega Latios)</th>\n",
       "      <td>381</td>\n",
       "      <td>700</td>\n",
       "      <td>80</td>\n",
       "      <td>130</td>\n",
       "      <td>100</td>\n",
       "      <td>160</td>\n",
       "      <td>120</td>\n",
       "      <td>110</td>\n",
       "      <td>True</td>\n",
       "      <td>Dragon</td>\n",
       "      <td>Psychic</td>\n",
       "      <td>Eon Pokémon</td>\n",
       "      <td>Levitate</td>\n",
       "      <td>None</td>\n",
       "      <td>None</td>\n",
       "      <td>Generation 6</td>\n",
       "      <td>True</td>\n",
       "      <td>False</td>\n",
       "      <td>False</td>\n",
       "    </tr>\n",
       "    <tr>\n",
       "      <th>Rayquaza(Mega Rayquaza)</th>\n",
       "      <td>384</td>\n",
       "      <td>780</td>\n",
       "      <td>105</td>\n",
       "      <td>180</td>\n",
       "      <td>100</td>\n",
       "      <td>180</td>\n",
       "      <td>100</td>\n",
       "      <td>115</td>\n",
       "      <td>True</td>\n",
       "      <td>Dragon</td>\n",
       "      <td>Flying</td>\n",
       "      <td>Sky High Pokémon</td>\n",
       "      <td>Delta Stream</td>\n",
       "      <td>None</td>\n",
       "      <td>None</td>\n",
       "      <td>Generation 6</td>\n",
       "      <td>False</td>\n",
       "      <td>True</td>\n",
       "      <td>False</td>\n",
       "    </tr>\n",
       "    <tr>\n",
       "      <th>Lopunny(Mega Lopunny)</th>\n",
       "      <td>428</td>\n",
       "      <td>580</td>\n",
       "      <td>65</td>\n",
       "      <td>136</td>\n",
       "      <td>94</td>\n",
       "      <td>54</td>\n",
       "      <td>96</td>\n",
       "      <td>135</td>\n",
       "      <td>True</td>\n",
       "      <td>Normal</td>\n",
       "      <td>Fighting</td>\n",
       "      <td>Rabbit Pokémon</td>\n",
       "      <td>Scrappy</td>\n",
       "      <td>None</td>\n",
       "      <td>None</td>\n",
       "      <td>Generation 6</td>\n",
       "      <td>False</td>\n",
       "      <td>False</td>\n",
       "      <td>False</td>\n",
       "    </tr>\n",
       "    <tr>\n",
       "      <th>Garchomp(Mega Garchomp)</th>\n",
       "      <td>445</td>\n",
       "      <td>700</td>\n",
       "      <td>108</td>\n",
       "      <td>170</td>\n",
       "      <td>115</td>\n",
       "      <td>120</td>\n",
       "      <td>95</td>\n",
       "      <td>92</td>\n",
       "      <td>True</td>\n",
       "      <td>Dragon</td>\n",
       "      <td>Ground</td>\n",
       "      <td>Mach Pokémon</td>\n",
       "      <td>Sand Force</td>\n",
       "      <td>None</td>\n",
       "      <td>None</td>\n",
       "      <td>Generation 6</td>\n",
       "      <td>False</td>\n",
       "      <td>False</td>\n",
       "      <td>False</td>\n",
       "    </tr>\n",
       "    <tr>\n",
       "      <th>Lucario(Mega Lucario)</th>\n",
       "      <td>448</td>\n",
       "      <td>625</td>\n",
       "      <td>70</td>\n",
       "      <td>145</td>\n",
       "      <td>88</td>\n",
       "      <td>140</td>\n",
       "      <td>70</td>\n",
       "      <td>112</td>\n",
       "      <td>True</td>\n",
       "      <td>Fighting</td>\n",
       "      <td>Steel</td>\n",
       "      <td>Aura Pokémon</td>\n",
       "      <td>Adaptability</td>\n",
       "      <td>None</td>\n",
       "      <td>None</td>\n",
       "      <td>Generation 6</td>\n",
       "      <td>False</td>\n",
       "      <td>False</td>\n",
       "      <td>False</td>\n",
       "    </tr>\n",
       "    <tr>\n",
       "      <th>Abomasnow(Mega Abomasnow)</th>\n",
       "      <td>460</td>\n",
       "      <td>594</td>\n",
       "      <td>90</td>\n",
       "      <td>132</td>\n",
       "      <td>105</td>\n",
       "      <td>132</td>\n",
       "      <td>105</td>\n",
       "      <td>30</td>\n",
       "      <td>True</td>\n",
       "      <td>Grass</td>\n",
       "      <td>Ice</td>\n",
       "      <td>Frost Tree Pokémon</td>\n",
       "      <td>Snow Warning</td>\n",
       "      <td>None</td>\n",
       "      <td>None</td>\n",
       "      <td>Generation 6</td>\n",
       "      <td>False</td>\n",
       "      <td>False</td>\n",
       "      <td>False</td>\n",
       "    </tr>\n",
       "    <tr>\n",
       "      <th>Gallade(Mega Gallade)</th>\n",
       "      <td>475</td>\n",
       "      <td>618</td>\n",
       "      <td>68</td>\n",
       "      <td>165</td>\n",
       "      <td>95</td>\n",
       "      <td>65</td>\n",
       "      <td>115</td>\n",
       "      <td>110</td>\n",
       "      <td>True</td>\n",
       "      <td>Psychic</td>\n",
       "      <td>Fighting</td>\n",
       "      <td>Blade Pokémon</td>\n",
       "      <td>Inner Focus</td>\n",
       "      <td>None</td>\n",
       "      <td>None</td>\n",
       "      <td>Generation 6</td>\n",
       "      <td>False</td>\n",
       "      <td>False</td>\n",
       "      <td>False</td>\n",
       "    </tr>\n",
       "    <tr>\n",
       "      <th>Audino(Mega Audino)</th>\n",
       "      <td>531</td>\n",
       "      <td>545</td>\n",
       "      <td>103</td>\n",
       "      <td>60</td>\n",
       "      <td>126</td>\n",
       "      <td>80</td>\n",
       "      <td>126</td>\n",
       "      <td>50</td>\n",
       "      <td>True</td>\n",
       "      <td>Normal</td>\n",
       "      <td>Fairy</td>\n",
       "      <td>Hearing Pokémon</td>\n",
       "      <td>Healer</td>\n",
       "      <td>None</td>\n",
       "      <td>None</td>\n",
       "      <td>Generation 6</td>\n",
       "      <td>False</td>\n",
       "      <td>False</td>\n",
       "      <td>False</td>\n",
       "    </tr>\n",
       "    <tr>\n",
       "      <th>Diancie(Mega Diancie)</th>\n",
       "      <td>719</td>\n",
       "      <td>700</td>\n",
       "      <td>50</td>\n",
       "      <td>160</td>\n",
       "      <td>110</td>\n",
       "      <td>160</td>\n",
       "      <td>110</td>\n",
       "      <td>110</td>\n",
       "      <td>True</td>\n",
       "      <td>Rock</td>\n",
       "      <td>Fairy</td>\n",
       "      <td>Jewel Pokémon</td>\n",
       "      <td>Magic Bounce</td>\n",
       "      <td>None</td>\n",
       "      <td>None</td>\n",
       "      <td>Generation 6</td>\n",
       "      <td>False</td>\n",
       "      <td>False</td>\n",
       "      <td>True</td>\n",
       "    </tr>\n",
       "  </tbody>\n",
       "</table>\n",
       "</div>"
      ],
      "text/plain": [
       "                            Pokemon Number  Stat Total   HP  Attack  Defense  \\\n",
       "Names                                                                          \n",
       "Venusaur(Mega Venusaur)                003         625   80     100      123   \n",
       "Charizard(Mega Charizard X)            006         634   78     130      111   \n",
       "Charizard(Mega Charizard Y)            006         634   78     104       78   \n",
       "Blastoise(Mega Blastoise)              009         630   79     103      120   \n",
       "Beedrill(Mega Beedrill)                015         495   65     150       40   \n",
       "Pidgeot(Mega Pidgeot)                  018         579   83      80       80   \n",
       "Alakazam(Mega Alakazam)                065         600   55      50       65   \n",
       "Slowbro(Mega Slowbro)                  080         590   95      75      180   \n",
       "Gengar(Mega Gengar)                    094         600   60      65       80   \n",
       "Kangaskhan(Mega Kangaskhan)            115         590  105     125      100   \n",
       "Pinsir(Mega Pinsir)                    127         600   65     155      120   \n",
       "Gyarados(Mega Gyarados)                130         640   95     155      109   \n",
       "Aerodactyl(Mega Aerodactyl)            142         615   80     135       85   \n",
       "Mewtwo(Mega Mewtwo X)                  150         780  106     190      100   \n",
       "Mewtwo(Mega Mewtwo Y)                  150         780  106     150       70   \n",
       "Ampharos(Mega Ampharos)                181         610   90      95      105   \n",
       "Steelix(Mega Steelix)                  208         610   75     125      230   \n",
       "Scizor(Mega Scizor)                    212         600   70     150      140   \n",
       "Heracross(Mega Heracross)              214         600   80     185      115   \n",
       "Houndoom(Mega Houndoom)                229         600   75      90       90   \n",
       "Tyranitar(Mega Tyranitar)              248         700  100     164      150   \n",
       "Sceptile(Mega Sceptile)                254         630   70     110       75   \n",
       "Blaziken(Mega Blaziken)                257         630   80     160       80   \n",
       "Swampert(Mega Swampert)                260         635  100     150      110   \n",
       "Gardevoir(Mega Gardevoir)              282         618   68      85       65   \n",
       "Sableye(Mega Sableye)                  302         480   50      85      125   \n",
       "Mawile(Mega Mawile)                    303         480   50     105      125   \n",
       "Aggron(Mega Aggron)                    306         630   70     140      230   \n",
       "Medicham(Mega Medicham)                308         510   60     100       85   \n",
       "Manectric(Mega Manectric)              310         575   70      75       80   \n",
       "Sharpedo(Mega Sharpedo)                319         560   70     140       70   \n",
       "Camerupt(Mega Camerupt)                323         560   70     120      100   \n",
       "Altaria(Mega Altaria)                  334         590   75     110      110   \n",
       "Banette(Mega Banette)                  354         555   64     165       75   \n",
       "Absol(Mega Absol)                      359         565   65     150       60   \n",
       "Glalie(Mega Glalie)                    362         580   80     120       80   \n",
       "Salamence(Mega Salamence)              373         700   95     145      130   \n",
       "Metagross(Mega Metagross)              376         700   80     145      150   \n",
       "Latias(Mega Latias)                    380         700   80     100      120   \n",
       "Latios(Mega Latios)                    381         700   80     130      100   \n",
       "Rayquaza(Mega Rayquaza)                384         780  105     180      100   \n",
       "Lopunny(Mega Lopunny)                  428         580   65     136       94   \n",
       "Garchomp(Mega Garchomp)                445         700  108     170      115   \n",
       "Lucario(Mega Lucario)                  448         625   70     145       88   \n",
       "Abomasnow(Mega Abomasnow)              460         594   90     132      105   \n",
       "Gallade(Mega Gallade)                  475         618   68     165       95   \n",
       "Audino(Mega Audino)                    531         545  103      60      126   \n",
       "Diancie(Mega Diancie)                  719         700   50     160      110   \n",
       "\n",
       "                             Sp.Atk  Sp.Def  Speed  Mega First Type  \\\n",
       "Names                                                                 \n",
       "Venusaur(Mega Venusaur)         122     120     80  True      Grass   \n",
       "Charizard(Mega Charizard X)     130      85    100  True       Fire   \n",
       "Charizard(Mega Charizard Y)     159     115    100  True       Fire   \n",
       "Blastoise(Mega Blastoise)       135     115     78  True      Water   \n",
       "Beedrill(Mega Beedrill)          15      80    145  True        Bug   \n",
       "Pidgeot(Mega Pidgeot)           135      80    121  True     Normal   \n",
       "Alakazam(Mega Alakazam)         175     105    150  True    Psychic   \n",
       "Slowbro(Mega Slowbro)           130      80     30  True      Water   \n",
       "Gengar(Mega Gengar)             170      95    130  True      Ghost   \n",
       "Kangaskhan(Mega Kangaskhan)      60     100    100  True     Normal   \n",
       "Pinsir(Mega Pinsir)              65      90    105  True        Bug   \n",
       "Gyarados(Mega Gyarados)          70     130     81  True      Water   \n",
       "Aerodactyl(Mega Aerodactyl)      70      95    150  True       Rock   \n",
       "Mewtwo(Mega Mewtwo X)           154     100    130  True    Psychic   \n",
       "Mewtwo(Mega Mewtwo Y)           194     120    140  True    Psychic   \n",
       "Ampharos(Mega Ampharos)         165     110     45  True   Electric   \n",
       "Steelix(Mega Steelix)            55      95     30  True      Steel   \n",
       "Scizor(Mega Scizor)              65     100     75  True        Bug   \n",
       "Heracross(Mega Heracross)        40     105     75  True        Bug   \n",
       "Houndoom(Mega Houndoom)         140      90    115  True       Dark   \n",
       "Tyranitar(Mega Tyranitar)        95     120     71  True       Rock   \n",
       "Sceptile(Mega Sceptile)         145      85    145  True      Grass   \n",
       "Blaziken(Mega Blaziken)         130      80    100  True       Fire   \n",
       "Swampert(Mega Swampert)          95     110     70  True      Water   \n",
       "Gardevoir(Mega Gardevoir)       165     135    100  True    Psychic   \n",
       "Sableye(Mega Sableye)            85     115     20  True       Dark   \n",
       "Mawile(Mega Mawile)              55      95     50  True      Steel   \n",
       "Aggron(Mega Aggron)              60      80     50  True      Steel   \n",
       "Medicham(Mega Medicham)          80      85    100  True   Fighting   \n",
       "Manectric(Mega Manectric)       135      80    135  True   Electric   \n",
       "Sharpedo(Mega Sharpedo)         110      65    105  True      Water   \n",
       "Camerupt(Mega Camerupt)         145     105     20  True       Fire   \n",
       "Altaria(Mega Altaria)           110     105     80  True     Dragon   \n",
       "Banette(Mega Banette)            93      83     75  True      Ghost   \n",
       "Absol(Mega Absol)               115      60    115  True       Dark   \n",
       "Glalie(Mega Glalie)             120      80    100  True        Ice   \n",
       "Salamence(Mega Salamence)       120      90    120  True     Dragon   \n",
       "Metagross(Mega Metagross)       105     110    110  True      Steel   \n",
       "Latias(Mega Latias)             140     150    110  True     Dragon   \n",
       "Latios(Mega Latios)             160     120    110  True     Dragon   \n",
       "Rayquaza(Mega Rayquaza)         180     100    115  True     Dragon   \n",
       "Lopunny(Mega Lopunny)            54      96    135  True     Normal   \n",
       "Garchomp(Mega Garchomp)         120      95     92  True     Dragon   \n",
       "Lucario(Mega Lucario)           140      70    112  True   Fighting   \n",
       "Abomasnow(Mega Abomasnow)       132     105     30  True      Grass   \n",
       "Gallade(Mega Gallade)            65     115    110  True    Psychic   \n",
       "Audino(Mega Audino)              80     126     50  True     Normal   \n",
       "Diancie(Mega Diancie)           160     110    110  True       Rock   \n",
       "\n",
       "                            Second Type              Species  First Ability  \\\n",
       "Names                                                                         \n",
       "Venusaur(Mega Venusaur)          Poison         Seed Pokémon      Thick Fat   \n",
       "Charizard(Mega Charizard X)      Dragon        Flame Pokémon    Tough Claws   \n",
       "Charizard(Mega Charizard Y)      Flying        Flame Pokémon        Drought   \n",
       "Blastoise(Mega Blastoise)          None    Shellfish Pokémon  Mega Launcher   \n",
       "Beedrill(Mega Beedrill)          Poison   Poison Bee Pokémon   Adaptability   \n",
       "Pidgeot(Mega Pidgeot)            Flying         Bird Pokémon       No Guard   \n",
       "Alakazam(Mega Alakazam)            None          Psi Pokémon          Trace   \n",
       "Slowbro(Mega Slowbro)           Psychic  Hermit Crab Pokémon    Shell Armor   \n",
       "Gengar(Mega Gengar)              Poison       Shadow Pokémon     Shadow Tag   \n",
       "Kangaskhan(Mega Kangaskhan)        None       Parent Pokémon  Parental Bond   \n",
       "Pinsir(Mega Pinsir)              Flying  Stag Beetle Pokémon       Aerilate   \n",
       "Gyarados(Mega Gyarados)            Dark    Atrocious Pokémon   Mold Breaker   \n",
       "Aerodactyl(Mega Aerodactyl)      Flying       Fossil Pokémon    Tough Claws   \n",
       "Mewtwo(Mega Mewtwo X)          Fighting      Genetic Pokémon      Steadfast   \n",
       "Mewtwo(Mega Mewtwo Y)              None      Genetic Pokémon       Insomnia   \n",
       "Ampharos(Mega Ampharos)          Dragon        Light Pokémon   Mold Breaker   \n",
       "Steelix(Mega Steelix)            Ground   Iron Snake Pokémon     Sand Force   \n",
       "Scizor(Mega Scizor)               Steel       Pincer Pokémon     Technician   \n",
       "Heracross(Mega Heracross)      Fighting  Single Horn Pokémon     Skill Link   \n",
       "Houndoom(Mega Houndoom)            Fire         Dark Pokémon    Solar Power   \n",
       "Tyranitar(Mega Tyranitar)          Dark        Armor Pokémon    Sand Stream   \n",
       "Sceptile(Mega Sceptile)          Dragon       Forest Pokémon  Lightning Rod   \n",
       "Blaziken(Mega Blaziken)        Fighting        Blaze Pokémon    Speed Boost   \n",
       "Swampert(Mega Swampert)          Ground     Mud Fish Pokémon     Swift Swim   \n",
       "Gardevoir(Mega Gardevoir)         Fairy      Embrace Pokémon       Pixilate   \n",
       "Sableye(Mega Sableye)             Ghost     Darkness Pokémon   Magic Bounce   \n",
       "Mawile(Mega Mawile)               Fairy     Deceiver Pokémon     Huge Power   \n",
       "Aggron(Mega Aggron)                None   Iron Armor Pokémon         Filter   \n",
       "Medicham(Mega Medicham)         Psychic     Meditate Pokémon     Pure Power   \n",
       "Manectric(Mega Manectric)          None    Discharge Pokémon     Intimidate   \n",
       "Sharpedo(Mega Sharpedo)            Dark       Brutal Pokémon     Strong Jaw   \n",
       "Camerupt(Mega Camerupt)          Ground     Eruption Pokémon    Sheer Force   \n",
       "Altaria(Mega Altaria)             Fairy      Humming Pokémon       Pixilate   \n",
       "Banette(Mega Banette)              None   Marionette Pokémon      Prankster   \n",
       "Absol(Mega Absol)                  None     Disaster Pokémon   Magic Bounce   \n",
       "Glalie(Mega Glalie)                None         Face Pokémon    Refrigerate   \n",
       "Salamence(Mega Salamence)        Flying       Dragon Pokémon       Aerilate   \n",
       "Metagross(Mega Metagross)       Psychic     Iron Leg Pokémon    Tough Claws   \n",
       "Latias(Mega Latias)             Psychic          Eon Pokémon       Levitate   \n",
       "Latios(Mega Latios)             Psychic          Eon Pokémon       Levitate   \n",
       "Rayquaza(Mega Rayquaza)          Flying     Sky High Pokémon   Delta Stream   \n",
       "Lopunny(Mega Lopunny)          Fighting       Rabbit Pokémon        Scrappy   \n",
       "Garchomp(Mega Garchomp)          Ground         Mach Pokémon     Sand Force   \n",
       "Lucario(Mega Lucario)             Steel         Aura Pokémon   Adaptability   \n",
       "Abomasnow(Mega Abomasnow)           Ice   Frost Tree Pokémon   Snow Warning   \n",
       "Gallade(Mega Gallade)          Fighting        Blade Pokémon    Inner Focus   \n",
       "Audino(Mega Audino)               Fairy      Hearing Pokémon         Healer   \n",
       "Diancie(Mega Diancie)             Fairy        Jewel Pokémon   Magic Bounce   \n",
       "\n",
       "                            Second Ability Hidden Ability    Generation  \\\n",
       "Names                                                                     \n",
       "Venusaur(Mega Venusaur)               None           None  Generation 6   \n",
       "Charizard(Mega Charizard X)           None           None  Generation 6   \n",
       "Charizard(Mega Charizard Y)           None           None  Generation 6   \n",
       "Blastoise(Mega Blastoise)             None           None  Generation 6   \n",
       "Beedrill(Mega Beedrill)               None           None  Generation 6   \n",
       "Pidgeot(Mega Pidgeot)                 None           None  Generation 6   \n",
       "Alakazam(Mega Alakazam)               None           None  Generation 6   \n",
       "Slowbro(Mega Slowbro)                 None           None  Generation 6   \n",
       "Gengar(Mega Gengar)                   None           None  Generation 6   \n",
       "Kangaskhan(Mega Kangaskhan)           None           None  Generation 6   \n",
       "Pinsir(Mega Pinsir)                   None           None  Generation 6   \n",
       "Gyarados(Mega Gyarados)               None           None  Generation 6   \n",
       "Aerodactyl(Mega Aerodactyl)           None           None  Generation 6   \n",
       "Mewtwo(Mega Mewtwo X)                 None           None  Generation 6   \n",
       "Mewtwo(Mega Mewtwo Y)                 None           None  Generation 6   \n",
       "Ampharos(Mega Ampharos)               None           None  Generation 6   \n",
       "Steelix(Mega Steelix)                 None           None  Generation 6   \n",
       "Scizor(Mega Scizor)                   None           None  Generation 6   \n",
       "Heracross(Mega Heracross)             None           None  Generation 6   \n",
       "Houndoom(Mega Houndoom)               None           None  Generation 6   \n",
       "Tyranitar(Mega Tyranitar)             None           None  Generation 6   \n",
       "Sceptile(Mega Sceptile)               None           None  Generation 6   \n",
       "Blaziken(Mega Blaziken)               None           None  Generation 6   \n",
       "Swampert(Mega Swampert)               None           None  Generation 6   \n",
       "Gardevoir(Mega Gardevoir)             None           None  Generation 6   \n",
       "Sableye(Mega Sableye)                 None           None  Generation 6   \n",
       "Mawile(Mega Mawile)                   None           None  Generation 6   \n",
       "Aggron(Mega Aggron)                   None           None  Generation 6   \n",
       "Medicham(Mega Medicham)               None           None  Generation 6   \n",
       "Manectric(Mega Manectric)             None           None  Generation 6   \n",
       "Sharpedo(Mega Sharpedo)               None           None  Generation 6   \n",
       "Camerupt(Mega Camerupt)               None           None  Generation 6   \n",
       "Altaria(Mega Altaria)                 None           None  Generation 6   \n",
       "Banette(Mega Banette)                 None           None  Generation 6   \n",
       "Absol(Mega Absol)                     None           None  Generation 6   \n",
       "Glalie(Mega Glalie)                   None           None  Generation 6   \n",
       "Salamence(Mega Salamence)             None           None  Generation 6   \n",
       "Metagross(Mega Metagross)             None           None  Generation 6   \n",
       "Latias(Mega Latias)                   None           None  Generation 6   \n",
       "Latios(Mega Latios)                   None           None  Generation 6   \n",
       "Rayquaza(Mega Rayquaza)               None           None  Generation 6   \n",
       "Lopunny(Mega Lopunny)                 None           None  Generation 6   \n",
       "Garchomp(Mega Garchomp)               None           None  Generation 6   \n",
       "Lucario(Mega Lucario)                 None           None  Generation 6   \n",
       "Abomasnow(Mega Abomasnow)             None           None  Generation 6   \n",
       "Gallade(Mega Gallade)                 None           None  Generation 6   \n",
       "Audino(Mega Audino)                   None           None  Generation 6   \n",
       "Diancie(Mega Diancie)                 None           None  Generation 6   \n",
       "\n",
       "                             Is Sub Legendary  Is Legendary  Is Mythical  \n",
       "Names                                                                     \n",
       "Venusaur(Mega Venusaur)                 False         False        False  \n",
       "Charizard(Mega Charizard X)             False         False        False  \n",
       "Charizard(Mega Charizard Y)             False         False        False  \n",
       "Blastoise(Mega Blastoise)               False         False        False  \n",
       "Beedrill(Mega Beedrill)                 False         False        False  \n",
       "Pidgeot(Mega Pidgeot)                   False         False        False  \n",
       "Alakazam(Mega Alakazam)                 False         False        False  \n",
       "Slowbro(Mega Slowbro)                   False         False        False  \n",
       "Gengar(Mega Gengar)                     False         False        False  \n",
       "Kangaskhan(Mega Kangaskhan)             False         False        False  \n",
       "Pinsir(Mega Pinsir)                     False         False        False  \n",
       "Gyarados(Mega Gyarados)                 False         False        False  \n",
       "Aerodactyl(Mega Aerodactyl)             False         False        False  \n",
       "Mewtwo(Mega Mewtwo X)                   False          True        False  \n",
       "Mewtwo(Mega Mewtwo Y)                   False          True        False  \n",
       "Ampharos(Mega Ampharos)                 False         False        False  \n",
       "Steelix(Mega Steelix)                   False         False        False  \n",
       "Scizor(Mega Scizor)                     False         False        False  \n",
       "Heracross(Mega Heracross)               False         False        False  \n",
       "Houndoom(Mega Houndoom)                 False         False        False  \n",
       "Tyranitar(Mega Tyranitar)               False         False        False  \n",
       "Sceptile(Mega Sceptile)                 False         False        False  \n",
       "Blaziken(Mega Blaziken)                 False         False        False  \n",
       "Swampert(Mega Swampert)                 False         False        False  \n",
       "Gardevoir(Mega Gardevoir)               False         False        False  \n",
       "Sableye(Mega Sableye)                   False         False        False  \n",
       "Mawile(Mega Mawile)                     False         False        False  \n",
       "Aggron(Mega Aggron)                     False         False        False  \n",
       "Medicham(Mega Medicham)                 False         False        False  \n",
       "Manectric(Mega Manectric)               False         False        False  \n",
       "Sharpedo(Mega Sharpedo)                 False         False        False  \n",
       "Camerupt(Mega Camerupt)                 False         False        False  \n",
       "Altaria(Mega Altaria)                   False         False        False  \n",
       "Banette(Mega Banette)                   False         False        False  \n",
       "Absol(Mega Absol)                       False         False        False  \n",
       "Glalie(Mega Glalie)                     False         False        False  \n",
       "Salamence(Mega Salamence)               False         False        False  \n",
       "Metagross(Mega Metagross)               False         False        False  \n",
       "Latias(Mega Latias)                      True         False        False  \n",
       "Latios(Mega Latios)                      True         False        False  \n",
       "Rayquaza(Mega Rayquaza)                 False          True        False  \n",
       "Lopunny(Mega Lopunny)                   False         False        False  \n",
       "Garchomp(Mega Garchomp)                 False         False        False  \n",
       "Lucario(Mega Lucario)                   False         False        False  \n",
       "Abomasnow(Mega Abomasnow)               False         False        False  \n",
       "Gallade(Mega Gallade)                   False         False        False  \n",
       "Audino(Mega Audino)                     False         False        False  \n",
       "Diancie(Mega Diancie)                   False         False         True  "
      ]
     },
     "execution_count": 83,
     "metadata": {},
     "output_type": "execute_result"
    }
   ],
   "source": [
    "poke_info[poke_info[\"Mega\"] == True]"
   ]
  },
  {
   "cell_type": "code",
   "execution_count": 85,
   "id": "8a2bc4c9",
   "metadata": {},
   "outputs": [],
   "source": [
    "poke_info.to_json(\"Pokemon Data.json\")"
   ]
  }
 ],
 "metadata": {
  "kernelspec": {
   "display_name": "Python 3 (ipykernel)",
   "language": "python",
   "name": "python3"
  },
  "language_info": {
   "codemirror_mode": {
    "name": "ipython",
    "version": 3
   },
   "file_extension": ".py",
   "mimetype": "text/x-python",
   "name": "python",
   "nbconvert_exporter": "python",
   "pygments_lexer": "ipython3",
   "version": "3.9.5"
  }
 },
 "nbformat": 4,
 "nbformat_minor": 5
}
